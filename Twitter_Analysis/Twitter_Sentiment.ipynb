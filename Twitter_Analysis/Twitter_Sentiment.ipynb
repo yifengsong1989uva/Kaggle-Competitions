{
 "cells": [
  {
   "cell_type": "markdown",
   "metadata": {},
   "source": [
    "# Political Tweets Analysis - Sentiment"
   ]
  },
  {
   "cell_type": "code",
   "execution_count": 1,
   "metadata": {
    "collapsed": true
   },
   "outputs": [],
   "source": [
    "import math\n",
    "import pandas as pd\n",
    "import numpy as np\n",
    "import csv\n",
    "import sys, os\n",
    "import string\n",
    "import re\n",
    "import datetime\n",
    "# Natural Language Processing\n",
    "import nltk\n",
    "from nltk.tokenize import TweetTokenizer\n",
    "from nltk.stem.snowball import EnglishStemmer # load the stemmer module from NLTK\n",
    "dataloc = '/Volumes/Seagate Backup Plus Drive/PoliTweet/TwitterData/'\n",
    "import emoji"
   ]
  },
  {
   "cell_type": "markdown",
   "metadata": {},
   "source": [
    "#### Loading Components for NLP"
   ]
  },
  {
   "cell_type": "code",
   "execution_count": 2,
   "metadata": {
    "collapsed": true
   },
   "outputs": [],
   "source": [
    "twtokenizer = TweetTokenizer()"
   ]
  },
  {
   "cell_type": "code",
   "execution_count": 3,
   "metadata": {
    "collapsed": false
   },
   "outputs": [],
   "source": [
    "punctuation = list(set(string.punctuation)) + ['…','’','...','—',':/','”','..', '“']"
   ]
  },
  {
   "cell_type": "code",
   "execution_count": 4,
   "metadata": {
    "collapsed": true
   },
   "outputs": [],
   "source": [
    "stopwords = ['i', 'me', 'my', 'myself', 'we', 'our', 'ours', 'ourselves', 'you', 'your', 'yours',\n",
    "'yourself', 'yourselves', 'he', 'him', 'his', 'himself', 'she', 'her', 'hers',\n",
    "'herself', 'it', 'its', 'itself', 'they', 'them', 'their', 'theirs', 'themselves',\n",
    "'what', 'which', 'who', 'whom', 'this', 'that', 'these', 'those', 'am', 'is', 'are',\n",
    "'was', 'were', 'be', 'been', 'being', 'have', 'has', 'had', 'having', 'do', 'does',\n",
    "'did', 'doing', 'a', 'an', 'the', 'and', 'but', 'if', 'or', 'because', 'as', 'until',\n",
    "'while', 'of', 'at', 'by', 'for', 'with', 'about', 'against', 'between', 'into',\n",
    "'through', 'during', 'before', 'after', 'above', 'below', 'to', 'from', 'up', 'down',\n",
    "'in', 'out', 'on', 'off', 'over', 'under', 'again', 'further', 'then', 'once', 'here',\n",
    "'there', 'when', 'where', 'why', 'how', 'all', 'any', 'both', 'each', 'few', 'more',\n",
    "'most', 'other', 'some', 'such', 'only', 'own', 'same', 'so',\n",
    "'than', 'too', 'very', 's', 't', 'can', 'will', 'just', 'don', 'should'] # Removed 'not','now', 'no','nor'"
   ]
  },
  {
   "cell_type": "code",
   "execution_count": 5,
   "metadata": {
    "collapsed": true
   },
   "outputs": [],
   "source": [
    "stopwords_short = ['the','an','a', ]"
   ]
  },
  {
   "cell_type": "markdown",
   "metadata": {},
   "source": [
    "#### Reading in Tweets"
   ]
  },
  {
   "cell_type": "code",
   "execution_count": 6,
   "metadata": {
    "collapsed": false
   },
   "outputs": [],
   "source": [
    "fileList = pd.read_csv('masterFileList.csv')"
   ]
  },
  {
   "cell_type": "code",
   "execution_count": 7,
   "metadata": {
    "collapsed": false
   },
   "outputs": [],
   "source": [
    "HC_batch = fileList[(fileList['cleanCandidate'] == 'HillaryClinton') & (fileList['Year'] == 2016) \\\n",
    "                    & (fileList['Month'] == 5) & (fileList['Day'] == 31) & (fileList['Query'] == 'at')]"
   ]
  },
  {
   "cell_type": "code",
   "execution_count": 8,
   "metadata": {
    "collapsed": false
   },
   "outputs": [],
   "source": [
    "def readTwitterCSV(file):\n",
    "    data = pd.DataFrame(list(csv.reader(open(file),skipinitialspace=True)))\n",
    "    newCol = []\n",
    "    counter = 0\n",
    "    for word in data.iloc[0]:\n",
    "        if word is None:\n",
    "            word = 'None'+'_'+ str(counter)\n",
    "            newCol.append(word)\n",
    "            counter += 1\n",
    "        else:\n",
    "            newCol.append(word)\n",
    "    \n",
    "    data.columns = newCol\n",
    "    \n",
    "    data = data.drop(0)\n",
    "    data.dropna(axis = 0)\n",
    "    return data "
   ]
  },
  {
   "cell_type": "code",
   "execution_count": 9,
   "metadata": {
    "collapsed": false
   },
   "outputs": [
    {
     "name": "stdout",
     "output_type": "stream",
     "text": [
      "[ BATCH -at,HillaryClinton-STATUS]2016.05.31.06.01.20\n",
      "[ BATCH -at,HillaryClinton-STATUS]2016.05.31.06.46.15\n",
      "[ BATCH -at,HillaryClinton-STATUS]2016.05.31.07.00.56\n",
      "[ BATCH -at,HillaryClinton-STATUS]2016.05.31.07.15.46\n"
     ]
    }
   ],
   "source": [
    "# Combine all @ Hillary Clinton Tweets for 1 Day\n",
    "HC = pd.DataFrame()\n",
    "for file in HC_batch.fileName:\n",
    "    print(file)\n",
    "    filePath =  dataloc + \"/\" + file\n",
    "    temp = readTwitterCSV(filePath)\n",
    "    # print(len(temp))\n",
    "    # print(len(temp.columns))\n",
    "    # print(temp.columns)\n",
    "    HC = pd.concat([HC,temp])\n",
    "HC = HC.reset_index()"
   ]
  },
  {
   "cell_type": "markdown",
   "metadata": {},
   "source": [
    "#### Tokenizing & Pre-Processing Corpus"
   ]
  },
  {
   "cell_type": "code",
   "execution_count": 10,
   "metadata": {
    "collapsed": true
   },
   "outputs": [],
   "source": [
    "def clean_tweets(tweet):\n",
    "    #tokenizer = nltk.tokenize.treebank.TreebankWordTokenizer()\n",
    "    cleanWords = twtokenizer.tokenize(tweet)\n",
    "    \n",
    "    # Convert to Lowercase\n",
    "    cleanWords = [t.lower() for t in cleanWords]\n",
    "    \n",
    "    # Convert Emoji's to Word Label\n",
    "    cleanWords = [emoji.demojize(word) for word in cleanWords]\n",
    "    \n",
    "\n",
    "    # Normalize (remove punctuation)\n",
    "    #Remove punctuation\n",
    "    cleanWords = [word for word in cleanWords if word not in punctuation]\n",
    "    \n",
    "    # punc = string.punctuation\n",
    "    # cleanWords = [t for t in cleanWords if t not in punc]\n",
    "    # cleanWords = [re.sub('[^0-9a-z]', \"\", x) for x in cleanWords]\n",
    "    \n",
    "    # Remove Empty Vectors\n",
    "    cleanWords = [x for x in cleanWords if x != '']\n",
    "     \n",
    "    # Remove StopWords\n",
    "    # cleanWords = [word for word in cleanWords if word not in stopwords_short]\n",
    "    cleanWords = [word for word in cleanWords if word not in stopwords]\n",
    "    \n",
    "    # Identify Digits & Convert to Num\n",
    "    #cleanWords = [re.sub(\"\\d+\", \"NUM\", x) for x in cleanWords]\n",
    "    \n",
    "    # Remove all Web/URL References\n",
    "    # Could be better to replace with 'URL'\n",
    "    cleanWords = [word for word in cleanWords if word[0:3] != 'htt']\n",
    "    \n",
    "    # Stem Words\n",
    "    #cleanWords = [stemmer.stem(x) for x in cleanWords] # call stemmer to stem the input\n",
    "    \n",
    "    # Remove Multiple Letters, Replace with only 3\n",
    "    \n",
    "    \n",
    "    return cleanWords"
   ]
  },
  {
   "cell_type": "code",
   "execution_count": 11,
   "metadata": {
    "collapsed": false
   },
   "outputs": [],
   "source": [
    "# Tokenize & Clean Corpus\n",
    "tokenList = [clean_tweets(i) for i in HC['statusText']]"
   ]
  },
  {
   "cell_type": "markdown",
   "metadata": {},
   "source": [
    "#### Building Sentiment Model"
   ]
  },
  {
   "cell_type": "code",
   "execution_count": 12,
   "metadata": {
    "collapsed": false
   },
   "outputs": [],
   "source": [
    "# Can get ~ 10k Sentiment Labeled Tweets\n",
    "from nltk.corpus import twitter_samples"
   ]
  },
  {
   "cell_type": "code",
   "execution_count": 13,
   "metadata": {
    "collapsed": true
   },
   "outputs": [],
   "source": [
    "# To download the Twitter Sentiment Files\n",
    "# nltk.download('twitter_samples')"
   ]
  },
  {
   "cell_type": "code",
   "execution_count": 14,
   "metadata": {
    "collapsed": false
   },
   "outputs": [],
   "source": [
    "neg_tweets = twitter_samples.strings('negative_tweets.json')\n",
    "pos_tweets = twitter_samples.strings('positive_tweets.json')"
   ]
  },
  {
   "cell_type": "code",
   "execution_count": 15,
   "metadata": {
    "collapsed": true
   },
   "outputs": [],
   "source": [
    "neg_tweets_clean = [clean_tweets(tweet) for tweet in neg_tweets]\n",
    "pos_tweets_clean = [clean_tweets(tweet) for tweet in pos_tweets]"
   ]
  },
  {
   "cell_type": "code",
   "execution_count": 16,
   "metadata": {
    "collapsed": false
   },
   "outputs": [],
   "source": [
    "# Adding Label to Each Tweet\n",
    "neg_tweets_labeled = list(zip(neg_tweets,['neg']*len(neg_tweets)))\n",
    "pos_tweets_labeled = list(zip(pos_tweets,['pos']*len(pos_tweets)))"
   ]
  },
  {
   "cell_type": "code",
   "execution_count": 81,
   "metadata": {
    "collapsed": false
   },
   "outputs": [],
   "source": [
    "# Tokenize and Clean the Training Set [If using the NLTK, remove :( as a Feature)?]\n",
    "neg_tweets_clean = [(clean_tweets(tweet),sent) for (tweet,sent) in neg_tweets_labeled]\n",
    "pos_tweets_clean = [(clean_tweets(tweet),sent) for (tweet,sent) in pos_tweets_labeled]"
   ]
  },
  {
   "cell_type": "code",
   "execution_count": 84,
   "metadata": {
    "collapsed": false
   },
   "outputs": [],
   "source": [
    "# Build combined Pos/Neg Tweet Set with Labels (What about Neutral?)\n",
    "train = neg_tweets_clean + pos_tweets_clean"
   ]
  },
  {
   "cell_type": "code",
   "execution_count": 86,
   "metadata": {
    "collapsed": false
   },
   "outputs": [
    {
     "data": {
      "text/plain": [
       "(['hopeless', 'tmr', ':('], 'neg')"
      ]
     },
     "execution_count": 86,
     "metadata": {},
     "output_type": "execute_result"
    }
   ],
   "source": [
    "train[0]"
   ]
  },
  {
   "cell_type": "markdown",
   "metadata": {},
   "source": [
    "#### Train Model"
   ]
  },
  {
   "cell_type": "markdown",
   "metadata": {},
   "source": [
    "Source: http://www.laurentluce.com/posts/twitter-sentiment-analysis-using-python-and-nltk/"
   ]
  },
  {
   "cell_type": "code",
   "execution_count": 22,
   "metadata": {
    "collapsed": false
   },
   "outputs": [
    {
     "name": "stdout",
     "output_type": "stream",
     "text": [
      "Total Probability:  1.0000000000002178\n"
     ]
    },
    {
     "name": "stderr",
     "output_type": "stream",
     "text": [
      "/Applications/anaconda/lib/python3.4/site-packages/ipykernel/__main__.py:14: FutureWarning: sort(columns=....) is deprecated, use sort_values(by=.....)\n"
     ]
    }
   ],
   "source": [
    "# Get Term Frequency for All Negative Tweets\n",
    "TF_neg = getTermFreq(neg_tweets_clean)\n",
    "u_theta_neg = genUniLM(TF_neg)"
   ]
  },
  {
   "cell_type": "code",
   "execution_count": 37,
   "metadata": {
    "collapsed": true
   },
   "outputs": [],
   "source": [
    "# createSmoothedProbability == Words in TF_1 and not in TF_0\n",
    "pSmooth_neg = calc_pSmoothAdditive(list(TF_pos.keys()), u_theta_neg, 0.1)"
   ]
  },
  {
   "cell_type": "code",
   "execution_count": 23,
   "metadata": {
    "collapsed": false
   },
   "outputs": [
    {
     "name": "stdout",
     "output_type": "stream",
     "text": [
      "Total Probability:  0.9999999999995887\n"
     ]
    },
    {
     "name": "stderr",
     "output_type": "stream",
     "text": [
      "/Applications/anaconda/lib/python3.4/site-packages/ipykernel/__main__.py:14: FutureWarning: sort(columns=....) is deprecated, use sort_values(by=.....)\n"
     ]
    }
   ],
   "source": [
    "# Get Term Frequency for All Positive Tweets\n",
    "TF_pos = getTermFreq(pos_tweets_clean)\n",
    "u_theta_pos = genUniLM(TF_pos)"
   ]
  },
  {
   "cell_type": "code",
   "execution_count": 38,
   "metadata": {
    "collapsed": true
   },
   "outputs": [],
   "source": [
    "# createSmoothedProbability == Words in TF_1 and not in TF_0\n",
    "pSmooth_pos = calc_pSmoothAdditive(list(TF_neg.keys()), u_theta_pos, 0.1)"
   ]
  },
  {
   "cell_type": "code",
   "execution_count": 39,
   "metadata": {
    "collapsed": false
   },
   "outputs": [],
   "source": [
    "# Create Term Freq for Whole Training Corpus, Maybe Filter Later (Cont = Controled Vocabulary)\n",
    "TF_cont = {}\n",
    "for word in set(list(TF_pos.keys())+list(TF_neg.keys())):\n",
    "    try: \n",
    "        p = TF_pos[word]\n",
    "    except KeyError: \n",
    "        p = 0\n",
    "    try: \n",
    "        n = TF_neg[word]\n",
    "    except KeyError: \n",
    "        n = 0\n",
    "    TF_cont[word] = p+n"
   ]
  },
  {
   "cell_type": "code",
   "execution_count": 27,
   "metadata": {
    "collapsed": false
   },
   "outputs": [
    {
     "data": {
      "text/plain": [
       "8"
      ]
     },
     "execution_count": 27,
     "metadata": {},
     "output_type": "execute_result"
    }
   ],
   "source": [
    "# sampleKeys(TF_cont)\n",
    "TF_cont['suck']"
   ]
  },
  {
   "cell_type": "code",
   "execution_count": 28,
   "metadata": {
    "collapsed": false
   },
   "outputs": [],
   "source": [
    "# Estimate Naive Bayes classifier, Need to Smooth Before Implementation\n",
    "navBayes = {}\n",
    "for word in TF_cont:\n",
    "    try:\n",
    "        logRatio = math.log(u_theta_pos['p'].ix[word]/u_theta_neg['p'].ix[word])\n",
    "    except KeyError:\n",
    "        logRatio = 0\n",
    "    navBayes[word] = logRatio"
   ]
  },
  {
   "cell_type": "code",
   "execution_count": 29,
   "metadata": {
    "collapsed": false
   },
   "outputs": [
    {
     "name": "stderr",
     "output_type": "stream",
     "text": [
      "/Applications/anaconda/lib/python3.4/site-packages/ipykernel/__main__.py:3: FutureWarning: sort(columns=....) is deprecated, use sort_values(by=.....)\n",
      "  app.launch_new_instance()\n"
     ]
    }
   ],
   "source": [
    "navBayesDF = pd.DataFrame.from_dict(navBayes, orient = \"index\")\n",
    "navBayesDF.columns = ['logRatio']\n",
    "navBayesDF = navBayesDF.sort('logRatio', ascending = False)"
   ]
  },
  {
   "cell_type": "code",
   "execution_count": 30,
   "metadata": {
    "collapsed": false
   },
   "outputs": [
    {
     "data": {
      "text/html": [
       "<div>\n",
       "<table border=\"1\" class=\"dataframe\">\n",
       "  <thead>\n",
       "    <tr style=\"text-align: right;\">\n",
       "      <th></th>\n",
       "      <th>logRatio</th>\n",
       "    </tr>\n",
       "  </thead>\n",
       "  <tbody>\n",
       "    <tr>\n",
       "      <th>:)</th>\n",
       "      <td>7.467538</td>\n",
       "    </tr>\n",
       "    <tr>\n",
       "      <th>bam</th>\n",
       "      <td>3.731222</td>\n",
       "    </tr>\n",
       "    <tr>\n",
       "      <th>community</th>\n",
       "      <td>3.348230</td>\n",
       "    </tr>\n",
       "    <tr>\n",
       "      <th>goodnight</th>\n",
       "      <td>3.082526</td>\n",
       "    </tr>\n",
       "    <tr>\n",
       "      <th>arrived</th>\n",
       "      <td>3.022807</td>\n",
       "    </tr>\n",
       "    <tr>\n",
       "      <th>glad</th>\n",
       "      <td>3.015085</td>\n",
       "    </tr>\n",
       "    <tr>\n",
       "      <th>opportunities</th>\n",
       "      <td>2.891471</td>\n",
       "    </tr>\n",
       "    <tr>\n",
       "      <th>appreciate</th>\n",
       "      <td>2.891471</td>\n",
       "    </tr>\n",
       "    <tr>\n",
       "      <th>loves</th>\n",
       "      <td>2.760443</td>\n",
       "    </tr>\n",
       "    <tr>\n",
       "      <th>followers</th>\n",
       "      <td>2.719621</td>\n",
       "    </tr>\n",
       "  </tbody>\n",
       "</table>\n",
       "</div>"
      ],
      "text/plain": [
       "               logRatio\n",
       ":)             7.467538\n",
       "bam            3.731222\n",
       "community      3.348230\n",
       "goodnight      3.082526\n",
       "arrived        3.022807\n",
       "glad           3.015085\n",
       "opportunities  2.891471\n",
       "appreciate     2.891471\n",
       "loves          2.760443\n",
       "followers      2.719621"
      ]
     },
     "execution_count": 30,
     "metadata": {},
     "output_type": "execute_result"
    }
   ],
   "source": [
    "navBayesDF[0:10]"
   ]
  },
  {
   "cell_type": "code",
   "execution_count": 31,
   "metadata": {
    "collapsed": false
   },
   "outputs": [
    {
     "data": {
      "text/plain": [
       "(10000, 0.5, 0.5)"
      ]
     },
     "execution_count": 31,
     "metadata": {},
     "output_type": "execute_result"
    }
   ],
   "source": [
    "total = len(neg_tweets_clean) + len(pos_tweets_clean)\n",
    "prob_neg = len(neg_tweets_clean)/total\n",
    "prob_pos = len(pos_tweets_clean)/total\n",
    "total, prob_pos, prob_neg"
   ]
  },
  {
   "cell_type": "code",
   "execution_count": 32,
   "metadata": {
    "collapsed": false
   },
   "outputs": [
    {
     "ename": "NameError",
     "evalue": "name 'dataDF_cont' is not defined",
     "output_type": "error",
     "traceback": [
      "\u001b[0;31m---------------------------------------------------------------------------\u001b[0m",
      "\u001b[0;31mNameError\u001b[0m                                 Traceback (most recent call last)",
      "\u001b[0;32m<ipython-input-32-6630f8ab248c>\u001b[0m in \u001b[0;36m<module>\u001b[0;34m()\u001b[0m\n\u001b[1;32m      1\u001b[0m \u001b[0;31m# Old Var Names\u001b[0m\u001b[0;34m\u001b[0m\u001b[0;34m\u001b[0m\u001b[0m\n\u001b[0;32m----> 2\u001b[0;31m \u001b[0mobs\u001b[0m \u001b[0;34m=\u001b[0m \u001b[0mlen\u001b[0m\u001b[0;34m(\u001b[0m\u001b[0mdataDF_cont\u001b[0m\u001b[0;34m.\u001b[0m\u001b[0mix\u001b[0m\u001b[0;34m[\u001b[0m\u001b[0mdataDF_cont\u001b[0m\u001b[0;34m.\u001b[0m\u001b[0mClass\u001b[0m\u001b[0;34m]\u001b[0m\u001b[0;34m)\u001b[0m\u001b[0;34m\u001b[0m\u001b[0m\n\u001b[0m\u001b[1;32m      3\u001b[0m \u001b[0mprob1\u001b[0m \u001b[0;34m=\u001b[0m \u001b[0mlen\u001b[0m\u001b[0;34m(\u001b[0m\u001b[0mdataDF_cont\u001b[0m\u001b[0;34m.\u001b[0m\u001b[0mix\u001b[0m\u001b[0;34m[\u001b[0m\u001b[0mdataDF_cont\u001b[0m\u001b[0;34m.\u001b[0m\u001b[0mClass\u001b[0m \u001b[0;34m==\u001b[0m \u001b[0;36m1\u001b[0m\u001b[0;34m]\u001b[0m\u001b[0;34m)\u001b[0m\u001b[0;34m/\u001b[0m\u001b[0mobs\u001b[0m\u001b[0;34m\u001b[0m\u001b[0m\n\u001b[1;32m      4\u001b[0m \u001b[0mprob0\u001b[0m \u001b[0;34m=\u001b[0m \u001b[0mlen\u001b[0m\u001b[0;34m(\u001b[0m\u001b[0mdataDF_cont\u001b[0m\u001b[0;34m.\u001b[0m\u001b[0mix\u001b[0m\u001b[0;34m[\u001b[0m\u001b[0mdataDF_cont\u001b[0m\u001b[0;34m.\u001b[0m\u001b[0mClass\u001b[0m \u001b[0;34m==\u001b[0m \u001b[0;36m0\u001b[0m\u001b[0;34m]\u001b[0m\u001b[0;34m)\u001b[0m\u001b[0;34m/\u001b[0m\u001b[0mobs\u001b[0m\u001b[0;34m\u001b[0m\u001b[0m\n\u001b[1;32m      5\u001b[0m \u001b[0mobs\u001b[0m\u001b[0;34m,\u001b[0m \u001b[0mprob1\u001b[0m\u001b[0;34m,\u001b[0m \u001b[0mprob0\u001b[0m\u001b[0;34m\u001b[0m\u001b[0m\n",
      "\u001b[0;31mNameError\u001b[0m: name 'dataDF_cont' is not defined"
     ]
    }
   ],
   "source": [
    "# Old Var Names\n",
    "obs = len(dataDF_cont.ix[dataDF_cont.Class])\n",
    "prob1 = len(dataDF_cont.ix[dataDF_cont.Class == 1])/obs\n",
    "prob0 = len(dataDF_cont.ix[dataDF_cont.Class == 0])/obs\n",
    "obs, prob1, prob0"
   ]
  },
  {
   "cell_type": "code",
   "execution_count": 43,
   "metadata": {
    "collapsed": true
   },
   "outputs": [],
   "source": [
    "def calcfX_NBLin(tokenlist, prob1, prob0, pSmooth_1, pSmooth_0):\n",
    "    X = 0\n",
    "    for word in tokenlist:\n",
    "        try:\n",
    "            pX_y1 = pSmooth_1.ix[word]\n",
    "        except KeyError:\n",
    "            pX_y1 = 1\n",
    "        try:\n",
    "            pX_y0 = pSmooth_0.ix[word]\n",
    "        except KeyError:\n",
    "            pX_y0 = 1\n",
    "            \n",
    "        x = math.log(pX_y1)-math.log(pX_y0)\n",
    "        X = X + x\n",
    "    fX = math.log(prob1/prob0) + X\n",
    "\n",
    "    return fX"
   ]
  },
  {
   "cell_type": "code",
   "execution_count": 44,
   "metadata": {
    "collapsed": false
   },
   "outputs": [],
   "source": [
    "fX = [calcfX_NBLin(tweet, prob_pos, prob_neg, pSmooth_pos, pSmooth_neg) for tweet in tokenList]"
   ]
  },
  {
   "cell_type": "code",
   "execution_count": 60,
   "metadata": {
    "collapsed": true
   },
   "outputs": [],
   "source": [
    "fx_sgn = [1 if tweet >= 0 else 0 for tweet in fX]"
   ]
  },
  {
   "cell_type": "code",
   "execution_count": 63,
   "metadata": {
    "collapsed": false
   },
   "outputs": [
    {
     "data": {
      "text/plain": [
       "53263"
      ]
     },
     "execution_count": 63,
     "metadata": {},
     "output_type": "execute_result"
    }
   ],
   "source": [
    "len(fX)"
   ]
  },
  {
   "cell_type": "code",
   "execution_count": 45,
   "metadata": {
    "collapsed": true
   },
   "outputs": [],
   "source": [
    "from sklearn.metrics import accuracy_score"
   ]
  },
  {
   "cell_type": "code",
   "execution_count": 46,
   "metadata": {
    "collapsed": false
   },
   "outputs": [
    {
     "data": {
      "text/plain": [
       "2.2928135051786667"
      ]
     },
     "execution_count": 46,
     "metadata": {},
     "output_type": "execute_result"
    }
   ],
   "source": [
    "fX[0]"
   ]
  },
  {
   "cell_type": "code",
   "execution_count": 47,
   "metadata": {
    "collapsed": false
   },
   "outputs": [
    {
     "data": {
      "text/plain": [
       "['1st',\n",
       " 'look',\n",
       " '@hillaryclinton',\n",
       " 'new',\n",
       " 'military',\n",
       " 'family',\n",
       " 'policy',\n",
       " 'paper',\n",
       " 'including',\n",
       " 'new',\n",
       " 'leave',\n",
       " 'plans',\n",
       " 'pcs',\n",
       " 'flexibility']"
      ]
     },
     "execution_count": 47,
     "metadata": {},
     "output_type": "execute_result"
    }
   ],
   "source": [
    "tokenList[0]"
   ]
  },
  {
   "cell_type": "code",
   "execution_count": null,
   "metadata": {
    "collapsed": true
   },
   "outputs": [],
   "source": [
    "metrics.accuracy_score()"
   ]
  },
  {
   "cell_type": "code",
   "execution_count": 33,
   "metadata": {
    "collapsed": true
   },
   "outputs": [],
   "source": [
    "def sampleKeys(dict):\n",
    "    return list(TF_neg.keys())[0:10]"
   ]
  },
  {
   "cell_type": "code",
   "execution_count": null,
   "metadata": {
    "collapsed": true
   },
   "outputs": [],
   "source": []
  },
  {
   "cell_type": "code",
   "execution_count": 14,
   "metadata": {
    "collapsed": true
   },
   "outputs": [],
   "source": [
    "\n",
    "# Fit Model to Training Set\n",
    "# Naive Bayes\n",
    "classifier = nltk.NaiveBayesClassifier.train(training_set)\n"
   ]
  },
  {
   "cell_type": "markdown",
   "metadata": {},
   "source": [
    "#### Predict"
   ]
  },
  {
   "cell_type": "code",
   "execution_count": null,
   "metadata": {
    "collapsed": true
   },
   "outputs": [],
   "source": [
    "# Tokenize and Clean the Test Set\n",
    "tokenList\n",
    "\n",
    "# Predict Positive/Negative Sentiment\n",
    "\n"
   ]
  },
  {
   "cell_type": "markdown",
   "metadata": {},
   "source": [
    "#### Sum Pos/Neg Over Day Per Candidate"
   ]
  },
  {
   "cell_type": "code",
   "execution_count": null,
   "metadata": {
    "collapsed": true
   },
   "outputs": [],
   "source": []
  },
  {
   "cell_type": "code",
   "execution_count": null,
   "metadata": {
    "collapsed": true
   },
   "outputs": [],
   "source": []
  },
  {
   "cell_type": "markdown",
   "metadata": {},
   "source": [
    "#### Evaluate Model Results Against Validation Set"
   ]
  },
  {
   "cell_type": "code",
   "execution_count": 24,
   "metadata": {
    "collapsed": true
   },
   "outputs": [],
   "source": [
    "HC_batch = fileList[(fileList['cleanCandidate'] == 'HillaryClinton') & (fileList['Year'] == 2016) \\\n",
    "                    & (fileList['Month'] == 6) & (fileList['Day'] == 1) & (fileList['Query'] == 'at')]"
   ]
  },
  {
   "cell_type": "code",
   "execution_count": 29,
   "metadata": {
    "collapsed": false
   },
   "outputs": [
    {
     "name": "stdout",
     "output_type": "stream",
     "text": [
      "[ BATCH -at,HillaryClinton-STATUS]2016.06.01.06.01.21\n",
      "[ BATCH -at,HillaryClinton-STATUS]2016.06.01.06.46.36\n",
      "[ BATCH -at,HillaryClinton-STATUS]2016.06.01.07.01.45\n",
      "[ BATCH -at,HillaryClinton-STATUS]2016.06.01.07.16.18\n",
      "[ BATCH -at,HillaryClinton-STATUS]2016.06.01.07.30.55\n",
      "[ BATCH -at,HillaryClinton-STATUS]2016.06.01.07.45.49\n"
     ]
    }
   ],
   "source": [
    "# Combine all @ Hillary Clinton Tweets for 1 Day\n",
    "HC_20160601 = pd.DataFrame()\n",
    "for file in HC_batch.fileName:\n",
    "    print(file)\n",
    "    filePath =  dataloc + \"/\" + file\n",
    "    temp = readTwitterCSV(filePath)\n",
    "    # print(len(temp))\n",
    "    # print(len(temp.columns))\n",
    "    # print(temp.columns)\n",
    "    HC_20160601 = pd.concat([HC_20160601,temp])\n",
    "HC_20160601 = HC_20160601.reset_index()"
   ]
  },
  {
   "cell_type": "code",
   "execution_count": 40,
   "metadata": {
    "collapsed": true
   },
   "outputs": [],
   "source": [
    "HC_val = pd.DataFrame(HC_20160601.loc[0:50,'statusText'])\n",
    "HC_val['sent'] = 'O'"
   ]
  },
  {
   "cell_type": "code",
   "execution_count": null,
   "metadata": {
    "collapsed": false
   },
   "outputs": [],
   "source": [
    "# Build a validation set interactively w/ the User\n",
    "for i in range(0,len(HC_val)):\n",
    "    print(HC_val.loc[i,'statusText'])\n",
    "    eval = input('And the sentiment is? ')\n",
    "    HC_val.loc[i,'sent'] = eval"
   ]
  },
  {
   "cell_type": "code",
   "execution_count": 49,
   "metadata": {
    "collapsed": true
   },
   "outputs": [],
   "source": [
    "# Export Validation to CSV\n",
    "HC_val.to_csv('validation_set.csv')"
   ]
  },
  {
   "cell_type": "code",
   "execution_count": 47,
   "metadata": {
    "collapsed": false
   },
   "outputs": [],
   "source": [
    "HC_val_clean = HC_val.loc[HC_val.sent != 'X',:] # Removed \"unclear\" tweets"
   ]
  },
  {
   "cell_type": "code",
   "execution_count": null,
   "metadata": {
    "collapsed": true
   },
   "outputs": [],
   "source": [
    "# Train to Find Junk Tweets? The ones I threw out bc were '@user @user2 URL' or other totally undisipherable"
   ]
  },
  {
   "cell_type": "code",
   "execution_count": 48,
   "metadata": {
    "collapsed": false
   },
   "outputs": [
    {
     "data": {
      "text/html": [
       "<div>\n",
       "<table border=\"1\" class=\"dataframe\">\n",
       "  <thead>\n",
       "    <tr style=\"text-align: right;\">\n",
       "      <th></th>\n",
       "      <th>statusText</th>\n",
       "      <th>sent</th>\n",
       "    </tr>\n",
       "  </thead>\n",
       "  <tbody>\n",
       "    <tr>\n",
       "      <th>1</th>\n",
       "      <td>RT @Tjaisb: @KrisParonto @HillaryClinton @13ho...</td>\n",
       "      <td>N</td>\n",
       "    </tr>\n",
       "    <tr>\n",
       "      <th>2</th>\n",
       "      <td>#ICYMI: Confident @HillaryClinton tells @NYMag...</td>\n",
       "      <td>P</td>\n",
       "    </tr>\n",
       "    <tr>\n",
       "      <th>4</th>\n",
       "      <td>RT @edvotes: How we treat educators matters. P...</td>\n",
       "      <td>P</td>\n",
       "    </tr>\n",
       "    <tr>\n",
       "      <th>10</th>\n",
       "      <td>RT @HillaryPix: #ImWithHer #HillaryClinton #Sh...</td>\n",
       "      <td>P</td>\n",
       "    </tr>\n",
       "    <tr>\n",
       "      <th>16</th>\n",
       "      <td>@realDonaldTrump gave 100% collected funds to ...</td>\n",
       "      <td>N</td>\n",
       "    </tr>\n",
       "    <tr>\n",
       "      <th>17</th>\n",
       "      <td>Seize San Bernardino shooter insurance https:/...</td>\n",
       "      <td>N</td>\n",
       "    </tr>\n",
       "    <tr>\n",
       "      <th>18</th>\n",
       "      <td>RT @bfraser747: I've been asking myself everyd...</td>\n",
       "      <td>N</td>\n",
       "    </tr>\n",
       "    <tr>\n",
       "      <th>23</th>\n",
       "      <td>First: the @latimes. Now: @JerryBrownGov.  Her...</td>\n",
       "      <td>P</td>\n",
       "    </tr>\n",
       "    <tr>\n",
       "      <th>24</th>\n",
       "      <td>@Forbes WHAT E-MAIL SCANDAL?. It is all going ...</td>\n",
       "      <td>P</td>\n",
       "    </tr>\n",
       "    <tr>\n",
       "      <th>25</th>\n",
       "      <td>@laughingliberal @Story27368218 @Occuping  I'm...</td>\n",
       "      <td>N</td>\n",
       "    </tr>\n",
       "    <tr>\n",
       "      <th>26</th>\n",
       "      <td>@HillaryClinton @BernieSanders Six days till H...</td>\n",
       "      <td>N</td>\n",
       "    </tr>\n",
       "    <tr>\n",
       "      <th>27</th>\n",
       "      <td>RT @sivadavi8: #IObject to @HillaryClinton's W...</td>\n",
       "      <td>N</td>\n",
       "    </tr>\n",
       "    <tr>\n",
       "      <th>29</th>\n",
       "      <td>RT @ManMet80: We are a country of immigrants  ...</td>\n",
       "      <td>P</td>\n",
       "    </tr>\n",
       "    <tr>\n",
       "      <th>30</th>\n",
       "      <td>RT @realitychek2015: Hey @jaketapper why don't...</td>\n",
       "      <td>N</td>\n",
       "    </tr>\n",
       "    <tr>\n",
       "      <th>31</th>\n",
       "      <td>RT @alexryanhannah: @realDonaldTrump knows how...</td>\n",
       "      <td>N</td>\n",
       "    </tr>\n",
       "    <tr>\n",
       "      <th>33</th>\n",
       "      <td>RT @bfraser747: I really do find you to be the...</td>\n",
       "      <td>N</td>\n",
       "    </tr>\n",
       "    <tr>\n",
       "      <th>39</th>\n",
       "      <td>RT @HillaryHoosiers: It's time to smash the ce...</td>\n",
       "      <td>P</td>\n",
       "    </tr>\n",
       "    <tr>\n",
       "      <th>42</th>\n",
       "      <td>RT @VABVOX: Except @HillaryClinton. Who will h...</td>\n",
       "      <td>N</td>\n",
       "    </tr>\n",
       "    <tr>\n",
       "      <th>43</th>\n",
       "      <td>RT @politico: A new California poll has @Hilla...</td>\n",
       "      <td>P</td>\n",
       "    </tr>\n",
       "    <tr>\n",
       "      <th>45</th>\n",
       "      <td>RT @AliceEngle3: @CNN @ABC @NBC @MSNBC @FOXNEW...</td>\n",
       "      <td>N</td>\n",
       "    </tr>\n",
       "    <tr>\n",
       "      <th>46</th>\n",
       "      <td>RT @3XT1: @HillaryClinton   But, racist @Hilla...</td>\n",
       "      <td>N</td>\n",
       "    </tr>\n",
       "    <tr>\n",
       "      <th>47</th>\n",
       "      <td>the first use of Mrs C playing the  #womancard...</td>\n",
       "      <td>P</td>\n",
       "    </tr>\n",
       "    <tr>\n",
       "      <th>50</th>\n",
       "      <td>RT @sivadavi8: #IObject to @HillaryClinton's t...</td>\n",
       "      <td>N</td>\n",
       "    </tr>\n",
       "  </tbody>\n",
       "</table>\n",
       "</div>"
      ],
      "text/plain": [
       "                                           statusText sent\n",
       "1   RT @Tjaisb: @KrisParonto @HillaryClinton @13ho...    N\n",
       "2   #ICYMI: Confident @HillaryClinton tells @NYMag...    P\n",
       "4   RT @edvotes: How we treat educators matters. P...    P\n",
       "10  RT @HillaryPix: #ImWithHer #HillaryClinton #Sh...    P\n",
       "16  @realDonaldTrump gave 100% collected funds to ...    N\n",
       "17  Seize San Bernardino shooter insurance https:/...    N\n",
       "18  RT @bfraser747: I've been asking myself everyd...    N\n",
       "23  First: the @latimes. Now: @JerryBrownGov.  Her...    P\n",
       "24  @Forbes WHAT E-MAIL SCANDAL?. It is all going ...    P\n",
       "25  @laughingliberal @Story27368218 @Occuping  I'm...    N\n",
       "26  @HillaryClinton @BernieSanders Six days till H...    N\n",
       "27  RT @sivadavi8: #IObject to @HillaryClinton's W...    N\n",
       "29  RT @ManMet80: We are a country of immigrants  ...    P\n",
       "30  RT @realitychek2015: Hey @jaketapper why don't...    N\n",
       "31  RT @alexryanhannah: @realDonaldTrump knows how...    N\n",
       "33  RT @bfraser747: I really do find you to be the...    N\n",
       "39  RT @HillaryHoosiers: It's time to smash the ce...    P\n",
       "42  RT @VABVOX: Except @HillaryClinton. Who will h...    N\n",
       "43  RT @politico: A new California poll has @Hilla...    P\n",
       "45  RT @AliceEngle3: @CNN @ABC @NBC @MSNBC @FOXNEW...    N\n",
       "46  RT @3XT1: @HillaryClinton   But, racist @Hilla...    N\n",
       "47  the first use of Mrs C playing the  #womancard...    P\n",
       "50  RT @sivadavi8: #IObject to @HillaryClinton's t...    N"
      ]
     },
     "execution_count": 48,
     "metadata": {},
     "output_type": "execute_result"
    }
   ],
   "source": [
    "HC_val_clean"
   ]
  },
  {
   "cell_type": "markdown",
   "metadata": {
    "collapsed": true
   },
   "source": [
    "Predict Sentiment on Validation Set\n"
   ]
  },
  {
   "cell_type": "code",
   "execution_count": 51,
   "metadata": {
    "collapsed": false
   },
   "outputs": [],
   "source": [
    "# Load Validation Set\n",
    "HC_val = pd.read_csv('/Users/hopeemac/Documents/Code/PoliTweet/validation_set.csv')"
   ]
  },
  {
   "cell_type": "code",
   "execution_count": 57,
   "metadata": {
    "collapsed": false
   },
   "outputs": [
    {
     "name": "stderr",
     "output_type": "stream",
     "text": [
      "/Applications/anaconda/lib/python3.4/site-packages/pandas/core/indexing.py:461: SettingWithCopyWarning: \n",
      "A value is trying to be set on a copy of a slice from a DataFrame.\n",
      "Try using .loc[row_indexer,col_indexer] = value instead\n",
      "\n",
      "See the caveats in the documentation: http://pandas.pydata.org/pandas-docs/stable/indexing.html#indexing-view-versus-copy\n",
      "  self.obj[item] = s\n"
     ]
    },
    {
     "data": {
      "text/html": [
       "<div>\n",
       "<table border=\"1\" class=\"dataframe\">\n",
       "  <thead>\n",
       "    <tr style=\"text-align: right;\">\n",
       "      <th></th>\n",
       "      <th>Unnamed: 0</th>\n",
       "      <th>statusText</th>\n",
       "      <th>sent</th>\n",
       "    </tr>\n",
       "  </thead>\n",
       "  <tbody>\n",
       "    <tr>\n",
       "      <th>1</th>\n",
       "      <td>1</td>\n",
       "      <td>RT @Tjaisb: @KrisParonto @HillaryClinton @13ho...</td>\n",
       "      <td>0</td>\n",
       "    </tr>\n",
       "    <tr>\n",
       "      <th>2</th>\n",
       "      <td>2</td>\n",
       "      <td>#ICYMI: Confident @HillaryClinton tells @NYMag...</td>\n",
       "      <td>1</td>\n",
       "    </tr>\n",
       "    <tr>\n",
       "      <th>4</th>\n",
       "      <td>4</td>\n",
       "      <td>RT @edvotes: How we treat educators matters. P...</td>\n",
       "      <td>1</td>\n",
       "    </tr>\n",
       "    <tr>\n",
       "      <th>10</th>\n",
       "      <td>10</td>\n",
       "      <td>RT @HillaryPix: #ImWithHer #HillaryClinton #Sh...</td>\n",
       "      <td>1</td>\n",
       "    </tr>\n",
       "    <tr>\n",
       "      <th>16</th>\n",
       "      <td>16</td>\n",
       "      <td>@realDonaldTrump gave 100% collected funds to ...</td>\n",
       "      <td>0</td>\n",
       "    </tr>\n",
       "    <tr>\n",
       "      <th>17</th>\n",
       "      <td>17</td>\n",
       "      <td>Seize San Bernardino shooter insurance https:/...</td>\n",
       "      <td>0</td>\n",
       "    </tr>\n",
       "    <tr>\n",
       "      <th>18</th>\n",
       "      <td>18</td>\n",
       "      <td>RT @bfraser747: I've been asking myself everyd...</td>\n",
       "      <td>0</td>\n",
       "    </tr>\n",
       "    <tr>\n",
       "      <th>23</th>\n",
       "      <td>23</td>\n",
       "      <td>First: the @latimes. Now: @JerryBrownGov.  Her...</td>\n",
       "      <td>1</td>\n",
       "    </tr>\n",
       "    <tr>\n",
       "      <th>24</th>\n",
       "      <td>24</td>\n",
       "      <td>@Forbes WHAT E-MAIL SCANDAL?. It is all going ...</td>\n",
       "      <td>1</td>\n",
       "    </tr>\n",
       "    <tr>\n",
       "      <th>25</th>\n",
       "      <td>25</td>\n",
       "      <td>@laughingliberal @Story27368218 @Occuping  I'm...</td>\n",
       "      <td>0</td>\n",
       "    </tr>\n",
       "    <tr>\n",
       "      <th>26</th>\n",
       "      <td>26</td>\n",
       "      <td>@HillaryClinton @BernieSanders Six days till H...</td>\n",
       "      <td>0</td>\n",
       "    </tr>\n",
       "    <tr>\n",
       "      <th>27</th>\n",
       "      <td>27</td>\n",
       "      <td>RT @sivadavi8: #IObject to @HillaryClinton's W...</td>\n",
       "      <td>0</td>\n",
       "    </tr>\n",
       "    <tr>\n",
       "      <th>29</th>\n",
       "      <td>29</td>\n",
       "      <td>RT @ManMet80: We are a country of immigrants  ...</td>\n",
       "      <td>1</td>\n",
       "    </tr>\n",
       "    <tr>\n",
       "      <th>30</th>\n",
       "      <td>30</td>\n",
       "      <td>RT @realitychek2015: Hey @jaketapper why don't...</td>\n",
       "      <td>0</td>\n",
       "    </tr>\n",
       "    <tr>\n",
       "      <th>31</th>\n",
       "      <td>31</td>\n",
       "      <td>RT @alexryanhannah: @realDonaldTrump knows how...</td>\n",
       "      <td>0</td>\n",
       "    </tr>\n",
       "    <tr>\n",
       "      <th>33</th>\n",
       "      <td>33</td>\n",
       "      <td>RT @bfraser747: I really do find you to be the...</td>\n",
       "      <td>0</td>\n",
       "    </tr>\n",
       "    <tr>\n",
       "      <th>39</th>\n",
       "      <td>39</td>\n",
       "      <td>RT @HillaryHoosiers: It's time to smash the ce...</td>\n",
       "      <td>1</td>\n",
       "    </tr>\n",
       "    <tr>\n",
       "      <th>42</th>\n",
       "      <td>42</td>\n",
       "      <td>RT @VABVOX: Except @HillaryClinton. Who will h...</td>\n",
       "      <td>0</td>\n",
       "    </tr>\n",
       "    <tr>\n",
       "      <th>43</th>\n",
       "      <td>43</td>\n",
       "      <td>RT @politico: A new California poll has @Hilla...</td>\n",
       "      <td>1</td>\n",
       "    </tr>\n",
       "    <tr>\n",
       "      <th>45</th>\n",
       "      <td>45</td>\n",
       "      <td>RT @AliceEngle3: @CNN @ABC @NBC @MSNBC @FOXNEW...</td>\n",
       "      <td>0</td>\n",
       "    </tr>\n",
       "    <tr>\n",
       "      <th>46</th>\n",
       "      <td>46</td>\n",
       "      <td>RT @3XT1: @HillaryClinton   But, racist @Hilla...</td>\n",
       "      <td>0</td>\n",
       "    </tr>\n",
       "    <tr>\n",
       "      <th>47</th>\n",
       "      <td>47</td>\n",
       "      <td>the first use of Mrs C playing the  #womancard...</td>\n",
       "      <td>1</td>\n",
       "    </tr>\n",
       "    <tr>\n",
       "      <th>50</th>\n",
       "      <td>50</td>\n",
       "      <td>RT @sivadavi8: #IObject to @HillaryClinton's t...</td>\n",
       "      <td>0</td>\n",
       "    </tr>\n",
       "  </tbody>\n",
       "</table>\n",
       "</div>"
      ],
      "text/plain": [
       "    Unnamed: 0                                         statusText sent\n",
       "1            1  RT @Tjaisb: @KrisParonto @HillaryClinton @13ho...    0\n",
       "2            2  #ICYMI: Confident @HillaryClinton tells @NYMag...    1\n",
       "4            4  RT @edvotes: How we treat educators matters. P...    1\n",
       "10          10  RT @HillaryPix: #ImWithHer #HillaryClinton #Sh...    1\n",
       "16          16  @realDonaldTrump gave 100% collected funds to ...    0\n",
       "17          17  Seize San Bernardino shooter insurance https:/...    0\n",
       "18          18  RT @bfraser747: I've been asking myself everyd...    0\n",
       "23          23  First: the @latimes. Now: @JerryBrownGov.  Her...    1\n",
       "24          24  @Forbes WHAT E-MAIL SCANDAL?. It is all going ...    1\n",
       "25          25  @laughingliberal @Story27368218 @Occuping  I'm...    0\n",
       "26          26  @HillaryClinton @BernieSanders Six days till H...    0\n",
       "27          27  RT @sivadavi8: #IObject to @HillaryClinton's W...    0\n",
       "29          29  RT @ManMet80: We are a country of immigrants  ...    1\n",
       "30          30  RT @realitychek2015: Hey @jaketapper why don't...    0\n",
       "31          31  RT @alexryanhannah: @realDonaldTrump knows how...    0\n",
       "33          33  RT @bfraser747: I really do find you to be the...    0\n",
       "39          39  RT @HillaryHoosiers: It's time to smash the ce...    1\n",
       "42          42  RT @VABVOX: Except @HillaryClinton. Who will h...    0\n",
       "43          43  RT @politico: A new California poll has @Hilla...    1\n",
       "45          45  RT @AliceEngle3: @CNN @ABC @NBC @MSNBC @FOXNEW...    0\n",
       "46          46  RT @3XT1: @HillaryClinton   But, racist @Hilla...    0\n",
       "47          47  the first use of Mrs C playing the  #womancard...    1\n",
       "50          50  RT @sivadavi8: #IObject to @HillaryClinton's t...    0"
      ]
     },
     "execution_count": 57,
     "metadata": {},
     "output_type": "execute_result"
    }
   ],
   "source": [
    "# Format Val Set\n",
    "HC_val_clean = HC_val.loc[HC_val.sent != 'X',:] # Removed \"unclear\" tweets\n",
    "\n",
    "HC_val_clean.loc[HC_val.sent == 'P','sent'] = 1 # Removed \"unclear\" tweets\n",
    "\n",
    "HC_val_clean.loc[HC_val.sent == 'N','sent'] = 0 # Removed \"unclear\" tweets\n",
    "HC_val_clean\n",
    "# len(HC_val_clean)"
   ]
  },
  {
   "cell_type": "code",
   "execution_count": 66,
   "metadata": {
    "collapsed": false
   },
   "outputs": [],
   "source": [
    "# Prepare Validation Ground Truth\n",
    "tokenList_HC_val = [clean_tweets(tweet) for tweet in HC_val_clean['statusText']]\n",
    "y_HC_val = [sent for sent in HC_val_clean['sent']]"
   ]
  },
  {
   "cell_type": "code",
   "execution_count": 64,
   "metadata": {
    "collapsed": true
   },
   "outputs": [],
   "source": [
    "# Predict Using Classifier\n",
    "fX = [calcfX_NBLin(tweet, prob_pos, prob_neg, pSmooth_pos, pSmooth_neg) for tweet in tokenList_HC_val]\n",
    "yHat_HC_val = [1 if tweet >= 0 else 0 for tweet in fX]"
   ]
  },
  {
   "cell_type": "code",
   "execution_count": 71,
   "metadata": {
    "collapsed": true
   },
   "outputs": [],
   "source": [
    "from sklearn.metrics import accuracy_score, confusion_matrix, precision_score, recall_score, f1_score"
   ]
  },
  {
   "cell_type": "code",
   "execution_count": 75,
   "metadata": {
    "collapsed": false
   },
   "outputs": [
    {
     "name": "stdout",
     "output_type": "stream",
     "text": [
      "Accuracy: 0.57\n",
      "Precision: 0.46\n",
      "Recall: 0.67\n",
      "F1: 0.55\n"
     ]
    }
   ],
   "source": [
    "print('Accuracy: %.2f' % accuracy_score(y_HC_val,yHat_HC_val))\n",
    "print('Precision: %.2f' % precision_score(y_HC_val,yHat_HC_val))\n",
    "print('Recall: %.2f' % recall_score(y_HC_val,yHat_HC_val))\n",
    "print('F1: %.2f' % f1_score(y_HC_val,yHat_HC_val))"
   ]
  },
  {
   "cell_type": "markdown",
   "metadata": {
    "collapsed": true
   },
   "source": [
    "## Methods"
   ]
  },
  {
   "cell_type": "code",
   "execution_count": 18,
   "metadata": {
    "collapsed": true
   },
   "outputs": [],
   "source": [
    "def getTermFreq(textList):\n",
    "    TF = {}\n",
    "    for row in textList:\n",
    "        #print(row)\n",
    "        for word in row:\n",
    "            # print(word)\n",
    "            if word in TF:\n",
    "                TF[word] += 1\n",
    "            else:\n",
    "                TF[word] = 1\n",
    "    return TF"
   ]
  },
  {
   "cell_type": "code",
   "execution_count": 19,
   "metadata": {
    "collapsed": true
   },
   "outputs": [],
   "source": [
    "def getDocFreq(textlist):\n",
    "    DF = {}\n",
    "    for row in textlist:\n",
    "        for word in set(row):\n",
    "            # print(word)\n",
    "            if word in DF:\n",
    "                DF[word] += 1\n",
    "            else:\n",
    "                DF[word] = 1\n",
    "    return DF"
   ]
  },
  {
   "cell_type": "code",
   "execution_count": 20,
   "metadata": {
    "collapsed": true
   },
   "outputs": [],
   "source": [
    "def create_countVectors(tokens):\n",
    "    doc_TF = {}\n",
    "    for token in tokens:\n",
    "        if token in doc_TF:\n",
    "            doc_TF[token] += 1\n",
    "        else:\n",
    "            doc_TF[token] = 1\n",
    "    return doc_TF"
   ]
  },
  {
   "cell_type": "code",
   "execution_count": 21,
   "metadata": {
    "collapsed": true
   },
   "outputs": [],
   "source": [
    "# Unigram Language Model\n",
    "def genUniLM(TF):\n",
    "    u_theta = pd.DataFrame.from_dict(TF, orient = \"index\")\n",
    "    u_theta.columns = ['TF']\n",
    "    # u_theta.sort('TF', ascending = False)[0:10]\n",
    "    # Total Number of Words in Training Corpus\n",
    "    nWords = u_theta['TF'].sum()\n",
    "    nWords\n",
    "    # Number of Unique Words in Training Corpus\n",
    "    vSize = len(u_theta['TF'])\n",
    "    vSize\n",
    "    # Calculate Probabilty of Each Word by TTF/N\n",
    "    u_theta['p'] = u_theta/nWords\n",
    "    u_theta = u_theta.sort('TF', ascending = False)\n",
    "    # Check that Probability Sums to 1\n",
    "    print(\"Total Probability: \",u_theta['p'].sum())\n",
    "    return u_theta"
   ]
  },
  {
   "cell_type": "code",
   "execution_count": 36,
   "metadata": {
    "collapsed": true
   },
   "outputs": [],
   "source": [
    "def calc_pSmoothAdditive(tokenList, u_theta, d):\n",
    "    \n",
    "    vSize_train = len(u_theta)\n",
    "    nWords_train = sum(u_theta['TF'])\n",
    "    \n",
    "    unseenWords = list(set(tokenList) - set(u_theta.index))\n",
    "    #print(len(unseenWords))\n",
    "    if len(unseenWords) == 0:\n",
    "        return u_theta['p']\n",
    "    else:\n",
    "        # Build Series with all unique words in training set + unseen words from test document\n",
    "        pSmooth = u_theta['TF'].append(pd.Series(([0]*len(unseenWords)), index = unseenWords))\n",
    "        nWords_train += len(unseenWords)\n",
    "        vSize_train += len(unseenWords)\n",
    "        f = lambda x: ((x + d) / (nWords_train + d*vSize_train))\n",
    "        pSmooth = pSmooth.map(f)\n",
    "        return pSmooth"
   ]
  },
  {
   "cell_type": "code",
   "execution_count": 112,
   "metadata": {
    "collapsed": true
   },
   "outputs": [],
   "source": [
    "TF_unclean = getTermFreq(tokenList_unclean)"
   ]
  },
  {
   "cell_type": "markdown",
   "metadata": {},
   "source": [
    "Plotting Word Frequency"
   ]
  },
  {
   "cell_type": "code",
   "execution_count": 117,
   "metadata": {
    "collapsed": false
   },
   "outputs": [],
   "source": [
    "TF_DF_unclean = pd.DataFrame.from_dict(TF_unclean, orient = 'index')\n",
    "TF_DF_unclean.columns = ['TF']\n",
    "TF_DF_unclean.sort_values(by = 'TF', ascending = False, inplace = True)"
   ]
  },
  {
   "cell_type": "code",
   "execution_count": 121,
   "metadata": {
    "collapsed": true
   },
   "outputs": [],
   "source": [
    "TF_DF_unclean['Rank'] = range(1,len(TF_DF_unclean)+1)"
   ]
  },
  {
   "cell_type": "code",
   "execution_count": 122,
   "metadata": {
    "collapsed": false
   },
   "outputs": [
    {
     "data": {
      "text/html": [
       "<div>\n",
       "<table border=\"1\" class=\"dataframe\">\n",
       "  <thead>\n",
       "    <tr style=\"text-align: right;\">\n",
       "      <th></th>\n",
       "      <th>TF</th>\n",
       "      <th>Rank</th>\n",
       "    </tr>\n",
       "  </thead>\n",
       "  <tbody>\n",
       "    <tr>\n",
       "      <th>@HillaryClinton</th>\n",
       "      <td>73435</td>\n",
       "      <td>1</td>\n",
       "    </tr>\n",
       "    <tr>\n",
       "      <th>.</th>\n",
       "      <td>55560</td>\n",
       "      <td>2</td>\n",
       "    </tr>\n",
       "    <tr>\n",
       "      <th>:</th>\n",
       "      <td>54143</td>\n",
       "      <td>3</td>\n",
       "    </tr>\n",
       "    <tr>\n",
       "      <th>RT</th>\n",
       "      <td>44352</td>\n",
       "      <td>4</td>\n",
       "    </tr>\n",
       "    <tr>\n",
       "      <th>the</th>\n",
       "      <td>23262</td>\n",
       "      <td>5</td>\n",
       "    </tr>\n",
       "    <tr>\n",
       "      <th>to</th>\n",
       "      <td>21932</td>\n",
       "      <td>6</td>\n",
       "    </tr>\n",
       "    <tr>\n",
       "      <th>,</th>\n",
       "      <td>20945</td>\n",
       "      <td>7</td>\n",
       "    </tr>\n",
       "    <tr>\n",
       "      <th>of</th>\n",
       "      <td>16572</td>\n",
       "      <td>8</td>\n",
       "    </tr>\n",
       "    <tr>\n",
       "      <th>!</th>\n",
       "      <td>15144</td>\n",
       "      <td>9</td>\n",
       "    </tr>\n",
       "    <tr>\n",
       "      <th>is</th>\n",
       "      <td>14120</td>\n",
       "      <td>10</td>\n",
       "    </tr>\n",
       "  </tbody>\n",
       "</table>\n",
       "</div>"
      ],
      "text/plain": [
       "                    TF  Rank\n",
       "@HillaryClinton  73435     1\n",
       ".                55560     2\n",
       ":                54143     3\n",
       "RT               44352     4\n",
       "the              23262     5\n",
       "to               21932     6\n",
       ",                20945     7\n",
       "of               16572     8\n",
       "!                15144     9\n",
       "is               14120    10"
      ]
     },
     "execution_count": 122,
     "metadata": {},
     "output_type": "execute_result"
    }
   ],
   "source": [
    "TF_DF_unclean[0:10]"
   ]
  },
  {
   "cell_type": "code",
   "execution_count": 113,
   "metadata": {
    "collapsed": true
   },
   "outputs": [],
   "source": [
    "# Plotting\n",
    "import matplotlib.pyplot as plt\n",
    "%matplotlib inline"
   ]
  },
  {
   "cell_type": "code",
   "execution_count": 126,
   "metadata": {
    "collapsed": false
   },
   "outputs": [
    {
     "data": {
      "image/png": "[encoded data removed]",
      "text/plain": [
       "<matplotlib.figure.Figure at 0x12c4a9c88>"
      ]
     },
     "metadata": {},
     "output_type": "display_data"
    }
   ],
   "source": [
    "plt.figure()\n",
    "plt.plot(TF_DF_unclean['Rank'],TF_DF_unclean['TF'], \n",
    "          color='darkblue', \n",
    "          linewidth = 2)\n",
    "plt.grid(True)\n",
    "plt.title(\"Zipf's Law - Twitter\")\n",
    "plt.show()"
   ]
  },
  {
   "cell_type": "code",
   "execution_count": 124,
   "metadata": {
    "collapsed": false
   },
   "outputs": [
    {
     "data": {
      "image/png": "[encoded data removed]",
      "text/plain": [
       "<matplotlib.figure.Figure at 0x13f352e10>"
      ]
     },
     "metadata": {},
     "output_type": "display_data"
    }
   ],
   "source": [
    "plt.figure()\n",
    "plt.loglog(TF_DF_unclean['Rank'],TF_DF_unclean['TF'], \n",
    "          color='darkblue', \n",
    "          linewidth = 2)\n",
    "plt.grid(True)\n",
    "plt.title(\"Zipf's Law - Twitter\")\n",
    "plt.show()"
   ]
  },
  {
   "cell_type": "code",
   "execution_count": 40,
   "metadata": {
    "collapsed": false
   },
   "outputs": [
    {
     "name": "stdout",
     "output_type": "stream",
     "text": [
      "emoji\n"
     ]
    }
   ],
   "source": [
    "pattern = re.compile(':.+:')\n",
    "if pattern.match(e):\n",
    "    print('emoji')\n",
    "#re.find(':.:',e)"
   ]
  },
  {
   "cell_type": "code",
   "execution_count": 44,
   "metadata": {
    "collapsed": false
   },
   "outputs": [
    {
     "data": {
      "text/plain": [
       "['celebration',\n",
       " 'higher',\n",
       " '@awizardindallas',\n",
       " '1968',\n",
       " 'srop',\n",
       " 'bud',\n",
       " 'اعينكم',\n",
       " '#han',\n",
       " 'memers',\n",
       " '@shwahkram']"
      ]
     },
     "execution_count": 44,
     "metadata": {},
     "output_type": "execute_result"
    }
   ],
   "source": [
    "list(TF.keys())[0:10]"
   ]
  },
  {
   "cell_type": "code",
   "execution_count": 158,
   "metadata": {
    "collapsed": false
   },
   "outputs": [
    {
     "data": {
      "text/plain": [
       "141"
      ]
     },
     "execution_count": 158,
     "metadata": {},
     "output_type": "execute_result"
    }
   ],
   "source": [
    "TF['high']"
   ]
  },
  {
   "cell_type": "code",
   "execution_count": 46,
   "metadata": {
    "collapsed": false
   },
   "outputs": [],
   "source": [
    "# Get emoji counts\n",
    "TF_Emojis = {k:v for k, v in TF.items() if pattern.match(k)}\n",
    "# len(TF_XMore)"
   ]
  },
  {
   "cell_type": "code",
   "execution_count": 48,
   "metadata": {
    "collapsed": false
   },
   "outputs": [
    {
     "data": {
      "text/plain": [
       "294"
      ]
     },
     "execution_count": 48,
     "metadata": {},
     "output_type": "execute_result"
    }
   ],
   "source": [
    "len(TF_Emojis)"
   ]
  },
  {
   "cell_type": "code",
   "execution_count": null,
   "metadata": {
    "collapsed": true
   },
   "outputs": [],
   "source": [
    "# Remove Stop Words (From 1-grams)\n",
    "def removeStopwords(text, stopwordList):\n",
    "    newList = [t for t in text if t not in stopwordList]\n",
    "    return newList"
   ]
  },
  {
   "cell_type": "code",
   "execution_count": 49,
   "metadata": {
    "collapsed": true
   },
   "outputs": [],
   "source": [
    "topWords = pd.DataFrame.from_dict(TF_Emojis, orient = 'index')\n",
    "topWords.columns = ['TF']\n",
    "topWords.sort_values(ascending = False, inplace = True, by = 'TF')"
   ]
  },
  {
   "cell_type": "code",
   "execution_count": 52,
   "metadata": {
    "collapsed": false
   },
   "outputs": [
    {
     "data": {
      "text/html": [
       "<div>\n",
       "<table border=\"1\" class=\"dataframe\">\n",
       "  <thead>\n",
       "    <tr style=\"text-align: right;\">\n",
       "      <th></th>\n",
       "      <th>TF</th>\n",
       "    </tr>\n",
       "  </thead>\n",
       "  <tbody>\n",
       "    <tr>\n",
       "      <th>:face_with_tears_of_joy:</th>\n",
       "      <td>533</td>\n",
       "    </tr>\n",
       "    <tr>\n",
       "      <th>:pistol:</th>\n",
       "      <td>167</td>\n",
       "    </tr>\n",
       "    <tr>\n",
       "      <th>:heavy_black_heart:</th>\n",
       "      <td>151</td>\n",
       "    </tr>\n",
       "    <tr>\n",
       "      <th>:clapping_hands_sign:</th>\n",
       "      <td>150</td>\n",
       "    </tr>\n",
       "    <tr>\n",
       "      <th>:double_exclamation_mark:</th>\n",
       "      <td>149</td>\n",
       "    </tr>\n",
       "    <tr>\n",
       "      <th>:party_popper:</th>\n",
       "      <td>149</td>\n",
       "    </tr>\n",
       "    <tr>\n",
       "      <th>:blue_heart:</th>\n",
       "      <td>143</td>\n",
       "    </tr>\n",
       "    <tr>\n",
       "      <th>:collision_symbol:</th>\n",
       "      <td>135</td>\n",
       "    </tr>\n",
       "    <tr>\n",
       "      <th>:fire:</th>\n",
       "      <td>135</td>\n",
       "    </tr>\n",
       "    <tr>\n",
       "      <th>:thumbs_up_sign:</th>\n",
       "      <td>119</td>\n",
       "    </tr>\n",
       "    <tr>\n",
       "      <th>:white_right_pointing_backhand_index:</th>\n",
       "      <td>106</td>\n",
       "    </tr>\n",
       "    <tr>\n",
       "      <th>:emoji_modifier_fitzpatrick_type-3:</th>\n",
       "      <td>104</td>\n",
       "    </tr>\n",
       "    <tr>\n",
       "      <th>:money_bag:</th>\n",
       "      <td>101</td>\n",
       "    </tr>\n",
       "    <tr>\n",
       "      <th>:grinning_face:</th>\n",
       "      <td>93</td>\n",
       "    </tr>\n",
       "    <tr>\n",
       "      <th>:emoji_modifier_fitzpatrick_type-1-2:</th>\n",
       "      <td>89</td>\n",
       "    </tr>\n",
       "    <tr>\n",
       "      <th>:emoji_modifier_fitzpatrick_type-4:</th>\n",
       "      <td>84</td>\n",
       "    </tr>\n",
       "    <tr>\n",
       "      <th>:smiling_face_with_smiling_eyes:</th>\n",
       "      <td>79</td>\n",
       "    </tr>\n",
       "    <tr>\n",
       "      <th>:ballot_box_with_check:</th>\n",
       "      <td>75</td>\n",
       "    </tr>\n",
       "    <tr>\n",
       "      <th>:thinking_face:</th>\n",
       "      <td>75</td>\n",
       "    </tr>\n",
       "    <tr>\n",
       "      <th>:white_left_pointing_backhand_index:</th>\n",
       "      <td>74</td>\n",
       "    </tr>\n",
       "    <tr>\n",
       "      <th>:glowing_star:</th>\n",
       "      <td>69</td>\n",
       "    </tr>\n",
       "    <tr>\n",
       "      <th>:pile_of_poo:</th>\n",
       "      <td>61</td>\n",
       "    </tr>\n",
       "    <tr>\n",
       "      <th>:skull:</th>\n",
       "      <td>58</td>\n",
       "    </tr>\n",
       "    <tr>\n",
       "      <th>:smiling_face_with_heart-shaped_eyes:</th>\n",
       "      <td>58</td>\n",
       "    </tr>\n",
       "    <tr>\n",
       "      <th>:slightly_smiling_face:</th>\n",
       "      <td>53</td>\n",
       "    </tr>\n",
       "    <tr>\n",
       "      <th>:high-heeled_shoe:</th>\n",
       "      <td>51</td>\n",
       "    </tr>\n",
       "    <tr>\n",
       "      <th>:grinning_face_with_smiling_eyes:</th>\n",
       "      <td>51</td>\n",
       "    </tr>\n",
       "    <tr>\n",
       "      <th>:pouting_face:</th>\n",
       "      <td>49</td>\n",
       "    </tr>\n",
       "    <tr>\n",
       "      <th>:flushed_face:</th>\n",
       "      <td>49</td>\n",
       "    </tr>\n",
       "    <tr>\n",
       "      <th>:imp:</th>\n",
       "      <td>49</td>\n",
       "    </tr>\n",
       "    <tr>\n",
       "      <th>...</th>\n",
       "      <td>...</td>\n",
       "    </tr>\n",
       "    <tr>\n",
       "      <th>:woman:</th>\n",
       "      <td>4</td>\n",
       "    </tr>\n",
       "    <tr>\n",
       "      <th>:waving_hand_sign:</th>\n",
       "      <td>4</td>\n",
       "    </tr>\n",
       "    <tr>\n",
       "      <th>:honeybee:</th>\n",
       "      <td>4</td>\n",
       "    </tr>\n",
       "    <tr>\n",
       "      <th>:sleeping_symbol:</th>\n",
       "      <td>4</td>\n",
       "    </tr>\n",
       "    <tr>\n",
       "      <th>:lemon:</th>\n",
       "      <td>4</td>\n",
       "    </tr>\n",
       "    <tr>\n",
       "      <th>:crown:</th>\n",
       "      <td>4</td>\n",
       "    </tr>\n",
       "    <tr>\n",
       "      <th>:neutral_face:</th>\n",
       "      <td>4</td>\n",
       "    </tr>\n",
       "    <tr>\n",
       "      <th>:grimacing_face:</th>\n",
       "      <td>4</td>\n",
       "    </tr>\n",
       "    <tr>\n",
       "      <th>:sparkles:</th>\n",
       "      <td>4</td>\n",
       "    </tr>\n",
       "    <tr>\n",
       "      <th>:mouth:</th>\n",
       "      <td>4</td>\n",
       "    </tr>\n",
       "    <tr>\n",
       "      <th>:persevering_face:</th>\n",
       "      <td>4</td>\n",
       "    </tr>\n",
       "    <tr>\n",
       "      <th>:pill:</th>\n",
       "      <td>4</td>\n",
       "    </tr>\n",
       "    <tr>\n",
       "      <th>:girl:</th>\n",
       "      <td>3</td>\n",
       "    </tr>\n",
       "    <tr>\n",
       "      <th>:tongue:</th>\n",
       "      <td>3</td>\n",
       "    </tr>\n",
       "    <tr>\n",
       "      <th>:put_litter_in_its_place_symbol:</th>\n",
       "      <td>3</td>\n",
       "    </tr>\n",
       "    <tr>\n",
       "      <th>:rat:</th>\n",
       "      <td>3</td>\n",
       "    </tr>\n",
       "    <tr>\n",
       "      <th>:dress:</th>\n",
       "      <td>3</td>\n",
       "    </tr>\n",
       "    <tr>\n",
       "      <th>:disappointed_but_relieved_face:</th>\n",
       "      <td>3</td>\n",
       "    </tr>\n",
       "    <tr>\n",
       "      <th>:black_question_mark_ornament:</th>\n",
       "      <td>3</td>\n",
       "    </tr>\n",
       "    <tr>\n",
       "      <th>:downwards_black_arrow:</th>\n",
       "      <td>3</td>\n",
       "    </tr>\n",
       "    <tr>\n",
       "      <th>:broken_heart:</th>\n",
       "      <td>3</td>\n",
       "    </tr>\n",
       "    <tr>\n",
       "      <th>:palm_tree:</th>\n",
       "      <td>3</td>\n",
       "    </tr>\n",
       "    <tr>\n",
       "      <th>:face_with_stuck-out_tongue_and_tightly-closed_eyes:</th>\n",
       "      <td>3</td>\n",
       "    </tr>\n",
       "    <tr>\n",
       "      <th>:bomb:</th>\n",
       "      <td>3</td>\n",
       "    </tr>\n",
       "    <tr>\n",
       "      <th>:four_leaf_clover:</th>\n",
       "      <td>3</td>\n",
       "    </tr>\n",
       "    <tr>\n",
       "      <th>:upside-down_face:</th>\n",
       "      <td>3</td>\n",
       "    </tr>\n",
       "    <tr>\n",
       "      <th>:kiss_mark:</th>\n",
       "      <td>3</td>\n",
       "    </tr>\n",
       "    <tr>\n",
       "      <th>:japanese_goblin:</th>\n",
       "      <td>3</td>\n",
       "    </tr>\n",
       "    <tr>\n",
       "      <th>:man:</th>\n",
       "      <td>3</td>\n",
       "    </tr>\n",
       "    <tr>\n",
       "      <th>:statue_of_liberty:</th>\n",
       "      <td>3</td>\n",
       "    </tr>\n",
       "  </tbody>\n",
       "</table>\n",
       "<p>165 rows × 1 columns</p>\n",
       "</div>"
      ],
      "text/plain": [
       "                                                     TF\n",
       ":face_with_tears_of_joy:                            533\n",
       ":pistol:                                            167\n",
       ":heavy_black_heart:                                 151\n",
       ":clapping_hands_sign:                               150\n",
       ":double_exclamation_mark:                           149\n",
       ":party_popper:                                      149\n",
       ":blue_heart:                                        143\n",
       ":collision_symbol:                                  135\n",
       ":fire:                                              135\n",
       ":thumbs_up_sign:                                    119\n",
       ":white_right_pointing_backhand_index:               106\n",
       ":emoji_modifier_fitzpatrick_type-3:                 104\n",
       ":money_bag:                                         101\n",
       ":grinning_face:                                      93\n",
       ":emoji_modifier_fitzpatrick_type-1-2:                89\n",
       ":emoji_modifier_fitzpatrick_type-4:                  84\n",
       ":smiling_face_with_smiling_eyes:                     79\n",
       ":ballot_box_with_check:                              75\n",
       ":thinking_face:                                      75\n",
       ":white_left_pointing_backhand_index:                 74\n",
       ":glowing_star:                                       69\n",
       ":pile_of_poo:                                        61\n",
       ":skull:                                              58\n",
       ":smiling_face_with_heart-shaped_eyes:                58\n",
       ":slightly_smiling_face:                              53\n",
       ":high-heeled_shoe:                                   51\n",
       ":grinning_face_with_smiling_eyes:                    51\n",
       ":pouting_face:                                       49\n",
       ":flushed_face:                                       49\n",
       ":imp:                                                49\n",
       "...                                                 ...\n",
       ":woman:                                               4\n",
       ":waving_hand_sign:                                    4\n",
       ":honeybee:                                            4\n",
       ":sleeping_symbol:                                     4\n",
       ":lemon:                                               4\n",
       ":crown:                                               4\n",
       ":neutral_face:                                        4\n",
       ":grimacing_face:                                      4\n",
       ":sparkles:                                            4\n",
       ":mouth:                                               4\n",
       ":persevering_face:                                    4\n",
       ":pill:                                                4\n",
       ":girl:                                                3\n",
       ":tongue:                                              3\n",
       ":put_litter_in_its_place_symbol:                      3\n",
       ":rat:                                                 3\n",
       ":dress:                                               3\n",
       ":disappointed_but_relieved_face:                      3\n",
       ":black_question_mark_ornament:                        3\n",
       ":downwards_black_arrow:                               3\n",
       ":broken_heart:                                        3\n",
       ":palm_tree:                                           3\n",
       ":face_with_stuck-out_tongue_and_tightly-closed_...    3\n",
       ":bomb:                                                3\n",
       ":four_leaf_clover:                                    3\n",
       ":upside-down_face:                                    3\n",
       ":kiss_mark:                                           3\n",
       ":japanese_goblin:                                     3\n",
       ":man:                                                 3\n",
       ":statue_of_liberty:                                   3\n",
       "\n",
       "[165 rows x 1 columns]"
      ]
     },
     "execution_count": 52,
     "metadata": {},
     "output_type": "execute_result"
    }
   ],
   "source": [
    "topWords[topWords.TF > 2]"
   ]
  },
  {
   "cell_type": "code",
   "execution_count": 122,
   "metadata": {
    "collapsed": false
   },
   "outputs": [
    {
     "data": {
      "text/plain": [
       "'❓'"
      ]
     },
     "execution_count": 122,
     "metadata": {},
     "output_type": "execute_result"
    }
   ],
   "source": [
    "emoji.emojize(':black_question_mark_ornament:')"
   ]
  },
  {
   "cell_type": "code",
   "execution_count": 56,
   "metadata": {
    "collapsed": true
   },
   "outputs": [],
   "source": [
    "# Review Tweets Containing Specific Emoji\n",
    "emojiExamples = ]k:v for k, v in corpus.items() if emoji.emojize(':face_with_tears_of_joy:') in v}"
   ]
  },
  {
   "cell_type": "code",
   "execution_count": 62,
   "metadata": {
    "collapsed": false
   },
   "outputs": [],
   "source": [
    "emojiExamples = [tweet for tweet in HC['statusText'] if emoji.emojize(':face_with_tears_of_joy:') in tweet]"
   ]
  },
  {
   "cell_type": "code",
   "execution_count": 63,
   "metadata": {
    "collapsed": false
   },
   "outputs": [
    {
     "data": {
      "text/plain": [
       "['@naelli222 @DavidAFrench @realDonaldTrump @HillaryClinton Texas??? 😂😂😂😂😂😂😂😂😂😂😂😂',\n",
       " '@TSalommy @NBCNews @meetthepress @BernieSanders @HillaryClinton typical drumpf follower  \\\\big dumb sheep\\\\\" speaks volumes 2nd grade level 😂😂\"',\n",
       " 'RT @An0nKn0wledge: Too Awesome!  #ManEnough4Hillary Do YOU #FeelTheBern yet @HillaryClinton? 😂😂😂 #LOL. #HillaryATroll2016 https://t.co/KXqy…',\n",
       " 'RT @ojscx: Send me a picture with @HillaryClinton having this many supporters 😂😂 #DownWithHillary #FeelTheBern https://t.co/UcaJm0dcQA',\n",
       " '@shami_here @ShahramSR @HillaryClinton @BBhuttoZardari @HamidMirGEO in fact she said ISKI maaa mar gayi iska NANA mar gaya ISKO vote de dou😂',\n",
       " '@therealshycat @HillaryClinton 😂Haha! Yes!!',\n",
       " '@johnpodesta @HillaryClinton @washingtonpost criticising @realDonaldTrump would Help him more to get pubilcity..  Be careful madam.. 😂😂',\n",
       " 'RT @ojscx: Send me a picture with @HillaryClinton having this many supporters 😂😂 #DownWithHillary #FeelTheBern https://t.co/UcaJm0dcQA',\n",
       " 'RT @ojscx: Send me a picture with @HillaryClinton having this many supporters 😂😂 #DownWithHillary #FeelTheBern https://t.co/UcaJm0dcQA',\n",
       " '@HillaryClinton hahaha hopefully you will win 😂👍',\n",
       " 'RT @ojscx: Send me a picture with @HillaryClinton having this many supporters 😂😂 #DownWithHillary #FeelTheBern https://t.co/UcaJm0dcQA',\n",
       " 'RT @ojscx: Send me a picture with @HillaryClinton having this many supporters 😂😂 #DownWithHillary #FeelTheBern https://t.co/UcaJm0dcQA',\n",
       " '@HillaryClinton just trolled @BBhuttoZardari badly😂 https://t.co/DsDqvjWJIC',\n",
       " 'RT @ShawnaMcNerney: @abowersock 😂😂😂 @HillaryClinton should just stop. Every attack she makes can be turned around on her. #DropOutHillary',\n",
       " 'RT @ojscx: Send me a picture with @HillaryClinton having this many supporters 😂😂 #DownWithHillary #FeelTheBern https://t.co/UcaJm0dcQA',\n",
       " 'RT @ojscx: Send me a picture with @HillaryClinton having this many supporters 😂😂 #DownWithHillary #FeelTheBern https://t.co/UcaJm0dcQA',\n",
       " 'RT @ojscx: Send me a picture with @HillaryClinton having this many supporters 😂😂 #DownWithHillary #FeelTheBern https://t.co/UcaJm0dcQA',\n",
       " '@abowersock 😂😂😂 @HillaryClinton should just stop. Every attack she makes can be turned around on her. #DropOutHillary',\n",
       " 'RT @ojscx: Send me a picture with @HillaryClinton having this many supporters 😂😂 #DownWithHillary #FeelTheBern https://t.co/UcaJm0dcQA',\n",
       " 'RT @ojscx: Send me a picture with @HillaryClinton having this many supporters 😂😂 #DownWithHillary #FeelTheBern https://t.co/UcaJm0dcQA',\n",
       " 'RT @ojscx: Send me a picture with @HillaryClinton having this many supporters 😂😂 #DownWithHillary #FeelTheBern https://t.co/UcaJm0dcQA',\n",
       " 'RT @ojscx: Send me a picture with @HillaryClinton having this many supporters 😂😂 #DownWithHillary #FeelTheBern https://t.co/UcaJm0dcQA',\n",
       " 'RT @ojscx: Send me a picture with @HillaryClinton having this many supporters 😂😂 #DownWithHillary #FeelTheBern https://t.co/UcaJm0dcQA',\n",
       " 'RT @ojscx: Send me a picture with @HillaryClinton having this many supporters 😂😂 #DownWithHillary #FeelTheBern https://t.co/UcaJm0dcQA',\n",
       " 'RT @ojscx: Send me a picture with @HillaryClinton having this many supporters 😂😂 #DownWithHillary #FeelTheBern https://t.co/UcaJm0dcQA',\n",
       " 'RT @ojscx: Send me a picture with @HillaryClinton having this many supporters 😂😂 #DownWithHillary #FeelTheBern https://t.co/UcaJm0dcQA',\n",
       " 'RT @An0nKn0wledge: Too Awesome!  #ManEnough4Hillary Do YOU #FeelTheBern yet @HillaryClinton? 😂😂😂 #LOL. #HillaryATroll2016 https://t.co/KXqy…',\n",
       " 'RT @ojscx: Send me a picture with @HillaryClinton having this many supporters 😂😂 #DownWithHillary #FeelTheBern https://t.co/UcaJm0dcQA',\n",
       " 'RT @lolalolita0: @JoMadRam @3XT1 @Brooks8314 @HillaryClinton GOP makes the mess, Trumpsters blame Obama. ,😂😂😂 #NeverTrump https://t.co/4ksl…',\n",
       " '@carolinagirl217 @HillaryClinton @puppymnkey Dan she got me too??😂',\n",
       " 'RT @insanitycpx: @carolinagirl217 @HillaryClinton @puppymnkey it makes me laugh,got to block because the truth hurts so bad😂',\n",
       " '@carolinagirl217 @HillaryClinton @puppymnkey it makes me laugh,got to block because the truth hurts so bad😂',\n",
       " 'Send me a picture with @HillaryClinton having this many supporters 😂😂 #DownWithHillary #FeelTheBern https://t.co/UcaJm0dcQA',\n",
       " 'RT @insanitycpx: @carolinagirl217 @HillaryClinton @puppymnkey funny how they always play \\\\big shot\\\\\"😂\"',\n",
       " 'Im TOTALLY ❤the #Media is gettin under @realDonaldTrump skin! He ❤ @HillaryClinton #EmailGate but not so much when its the #VetDonations! 😂😄',\n",
       " 'RT @lolalolita0: @JoMadRam @3XT1 @Brooks8314 @HillaryClinton GOP makes the mess, Trumpsters blame Obama. ,😂😂😂 #NeverTrump https://t.co/4ksl…',\n",
       " '@keithinabox @lawdood @politico @HillaryClinton @BernieSanders Hahahaha😂😂😂',\n",
       " '@lawdood @politico @HillaryClinton @BernieSanders 😂 https://t.co/tYM6y741MY',\n",
       " '@carolinagirl217 @HillaryClinton @puppymnkey funny how they always play \\\\big shot\\\\\"😂\"',\n",
       " 'RT @lolalolita0: @JoMadRam @3XT1 @Brooks8314 @HillaryClinton GOP makes the mess, Trumpsters blame Obama. ,😂😂😂 #NeverTrump https://t.co/4ksl…',\n",
       " 'RT @Meeeedge: @CNNSitRoom Hey, Crooked @HillaryClinton, show us the $$$ you raised for the Vets. 😂😂😂😂@realDonaldTrump https://t.co/du8wkqqk…',\n",
       " '@johnpodesta @HillaryClinton it will take trump a 100 years to become half the woman Hillary is today 😂',\n",
       " 'RT @lolalolita0: @3XT1 @JoMadRam @Brooks8314 @HillaryClinton oh shut up 😂😂#NeverTrump https://t.co/92X626LZMo',\n",
       " '@Lionsguard1 @Women4Trump @HillaryClinton @politico Baaaaaaahaaaaaa! Stop it your killing me!!!!😂😂😂😂😂😂😂😂😂😂😂😂😂😂',\n",
       " \"RT @ProDNC: @Lionsguard1 @Women4Trump @HillaryClinton @politico Oh yes you're right. It's the 75% that hate him right?👏👏👏😂\",\n",
       " \"@Lionsguard1 @Women4Trump @HillaryClinton @politico Oh yes you're right. It's the 75% that hate him right?👏👏👏😂\",\n",
       " '@MoonAngelWings @HillaryClinton what do you mean looks real 😂?',\n",
       " '@Doge4ferguson @RecallMcCulloch @HillaryClinton make sure you read who actually caused the same sentencing to fail. Go occupy Ferguson 😂',\n",
       " '@3XT1 @JoMadRam @Brooks8314 @HillaryClinton oh shut up 😂😂#NeverTrump https://t.co/92X626LZMo',\n",
       " '@3XT1 @JoMadRam @Brooks8314 @HillaryClinton 😂😂😂 bot and libert ??? Oh gosh way too much #NeverTrump https://t.co/Ic8QOtvGiR',\n",
       " 'RT @JoMadRam: @3XT1 TrumpBot is breaking down. Repeats same tweet over and over. 😂👏👏👏👏 @lolalolita0 @Brooks8314 @HillaryClinton https://t.c…',\n",
       " 'What @HillaryClinton doing 2 @BernieSanders \\\\Shes Kickin Hiis A$$!\\\\\" ROFL 😁😄😂 https://t.co/4AkDigoOkt\"',\n",
       " '@HillaryClinton used Morgan Freeman to voice her campaign videos. I may just vote for her because of that very reason😂',\n",
       " '@Bethany_a11 bc @HillaryClinton is an idiot 😂',\n",
       " '@TubingTyler @HillaryClinton you come on my page to block me when I dont know you, your were already blocked because you never existed 😂😂',\n",
       " 'RT @enjoylillian: I supported @HillaryClinton on Twitter and all I got was this pile of hate tweets! 😂',\n",
       " '@NtimeWelearn @HillaryClinton 😂😂😂',\n",
       " '@andymientus @HillaryClinton 😂',\n",
       " '@HillaryClinton 😂 You have room to talk! I will be voting for @realDonaldTrump #NeverHillary #AlwaysTrump',\n",
       " 'RT @enjoylillian: I supported @HillaryClinton on Twitter and all I got was this pile of hate tweets! 😂',\n",
       " '@HillaryClinton @mrsbrintle 😂😂😂😂😂',\n",
       " '@markxcool @SamHarrisOrg @joerogan @HillaryClinton is definitely Miss Piggy! 😂 https://t.co/HVbntIMkN4',\n",
       " 'Digo, por mí si @DMetrofano se quiere hacer pasar por @JillBegovich o @HillaryClinton esta chido, amo agarren de pendeja a la gente 😂😂😂',\n",
       " \"@whippinthrulife @HillaryClinton. But I've seen a few Cruz tweeters hailing him as the Second Coming.  😃😃😄😅😂\",\n",
       " '@inperilous1 @seanhannity @realDonaldTrump @HillaryClinton Still waiting for that Romney landslide Fox promised you?😂😂😂😂😂😂😂😂',\n",
       " '@JBroaddus @HillaryClinton 😂',\n",
       " '@DebraMessing @HillaryClinton good sense of humour like you Deb! 😂👍\\U0001f3fb',\n",
       " '@HillaryClinton @JerryBrownGov هههههخخخهخخ😂😂😂😂',\n",
       " '@AIIAmericanGirI @HillaryClinton cannot hide forever! 😂',\n",
       " '@IvanTheK @realDonaldTrump @HillaryClinton he will when she release her transcripts ..😂😭😂',\n",
       " 'Too funny ! I love your sense of humor @HillaryClinton 😂😂 #ImWithHer #HillaryClinton https://t.co/f62c67CXNb',\n",
       " 'How 2 pander to black ppl by @HillaryClinton 😂😂😂 https://t.co/98UPy4ls8Y via @youtube',\n",
       " '@HillaryClinton  yes she will❤️😂❤️😂🙏\\U0001f3fc',\n",
       " '@womanINtransit @Bernie_Facts @jamezdhawaii @DavidShuster @HillaryClinton @FBI 😂😂😂🔥🔥🔥',\n",
       " 'RT @Women4Trump: @HillaryClinton one time we saw you barking like a dog😂',\n",
       " 'RT @Women4Trump: @HillaryClinton one time we saw you barking like a dog😂',\n",
       " 'Gawd I just ❤️ this woman. 😂  #Imwithher @HillaryClinton  https://t.co/GEzf90gabt',\n",
       " '@BlueDuPage @DemoFan24 @HillaryClinton are trying to curry favor!! 😂😂😂',\n",
       " '@brooklyn_cheyy @alexismwright @thare302 @HillaryClinton Good one now try again 😂',\n",
       " 'RT @Women4Trump: @HillaryClinton one time we saw you barking like a dog😂',\n",
       " \"RT @nicolesherburne: @BBJedi86 @DavidShuster @JordanChariton   It would look worse if @HillaryClinton's arrested for lying to @FBI 😂 https:…\",\n",
       " '@brooklyn_cheyy @alexismwright @thare302 @HillaryClinton yeah you beat her in 👄🍆😂',\n",
       " 'RT @Women4Trump: @HillaryClinton one time we saw you barking like a dog😂',\n",
       " '@runningirl66 @anthonyfroyd @HillaryClinton 😂😂😂😂😂😂 not really. She is Angela Merkel 2.0 ! God help us all if she gets in the WH',\n",
       " '😂😂😂😂 @HillaryClinton THERES ALWAYS 2020 #DropOutHillary #ItsOverforher #loserproblems #dontbeasourpuss https://t.co/yrYL7fSj1J',\n",
       " \"@HillaryClinton what's your email address? hehe funniness lives up in here 😂😂👌\\U0001f984🔥\",\n",
       " 'Ha! I was thinking if @HillaryClinton and @DWStweets had a daughter it would look like that  😂 https://t.co/tTcmrIoazH',\n",
       " '@bfraser747 @HillaryClinton 😂',\n",
       " '@TokingDrumpf @Ladybee1969 @HillaryClinton @latimes thank you guys we appreciate it 😂😂😂',\n",
       " '@HillaryClinton U R absolutely hilarious😂 #ImsowithHer',\n",
       " 'RT @Women4Trump: @HillaryClinton one time we saw you barking like a dog😂',\n",
       " 'I supported @HillaryClinton on Twitter and all I got was this pile of hate tweets! 😂',\n",
       " '@HillaryClinton one time we saw you barking like a dog😂',\n",
       " '@HillaryClinton 😂😂😂😂',\n",
       " '@oscarcr74250288 @HillaryClinton LOL😂😂😂',\n",
       " 'RT @mysteph09: Wow!!!! @HillaryClinton even your buddies say you #CANTWIN #DropOutHillary #YoureDone 😂😂😂 https://t.co/2JS219L7RO #DebbieWas…',\n",
       " '@HillaryClinton is a liar 😂',\n",
       " '@HillaryClinton 😂😂😂 https://t.co/oegZ1p7iIJ',\n",
       " 'Wow!!!! @HillaryClinton even your buddies say you #CANTWIN #DropOutHillary #YoureDone 😂😂😂 https://t.co/2JS219L7RO #DebbieWassermanSchultz 😂😂',\n",
       " '@politico @HillaryClinton @BernieSanders 😂😂😂 Burn Bernie Burn 🔥 Feel that Burn Bernie What will those Bernie or Bust do?  EXPLODE?👀😂😂',\n",
       " \"@HillaryClinton don't worry I'm sure @realDonaldTrump might put money on your books in prison 😂\",\n",
       " 'RT @Meeeedge: @CNNSitRoom Hey, Crooked @HillaryClinton, show us the $$$ you raised for the Vets. 😂😂😂😂@realDonaldTrump https://t.co/du8wkqqk…',\n",
       " 'RT @Meeeedge: @CNNSitRoom Hey, Crooked @HillaryClinton, show us the $$$ you raised for the Vets. 😂😂😂😂@realDonaldTrump https://t.co/du8wkqqk…',\n",
       " '@MforestB @rsbriggs @ednat62 @shawmor @HomunculusLoikm @HillaryClinton @indieguy888 😂bingo',\n",
       " '@HillaryClinton @realDonaldTrump @AC360 for doing your job! What about the emails ? Benghazi? Obama rev right Bill Ayers ? Scrutinized? 😂😂😂😂',\n",
       " \"RT @nicolesherburne: @BBJedi86 @DavidShuster @JordanChariton   It would look worse if @HillaryClinton's arrested for lying to @FBI 😂 https:…\",\n",
       " 'RT @Meeeedge: @CNNSitRoom Hey, Crooked @HillaryClinton, show us the $$$ you raised for the Vets. 😂😂😂😂@realDonaldTrump https://t.co/du8wkqqk…',\n",
       " 'RT @Meeeedge: @CNNSitRoom Hey, Crooked @HillaryClinton, show us the $$$ you raised for the Vets. 😂😂😂😂@realDonaldTrump https://t.co/du8wkqqk…',\n",
       " '@BeladonnaRogers @FredZeppelin12 @FreeBeacon @HillaryClinton 😂😂😂😂😂😂😂😂😂',\n",
       " \"@HillaryClinton @latimes @JerryBrownGov ha ha. Jerry brown? He's got clout. Ruiner of CA. You're both delusional.😂\",\n",
       " '@captdave69 @HillaryClinton I guess no one but trump cares about vets 😂😂😂😂😂😂😂😂',\n",
       " '@FoxNews @BBCWorld @HillaryClinton /Hey fair is fair.DOJ has no ethics,so why should lawyers have training for it?Hillary will train them.😂',\n",
       " '@FirstTeamTommy @HillaryClinton good discussion 😂😂',\n",
       " 'RT @melanieusn1979: 😳😳\\U0001f914\\U0001f914😂😂. .@jturnershow Brilliant, funny historical & prophetic! MUST WATCH all 2 get it! .@HillaryClinton .@LouDobbs htt…',\n",
       " 'RT @melanieusn1979: 😳😳\\U0001f914\\U0001f914😂😂. .@jturnershow Brilliant, funny historical & prophetic! MUST WATCH all 2 get it! .@HillaryClinton .@LouDobbs htt…',\n",
       " 'RT @VerumEstLiberta: 😂😂😂 @HillaryClinton who refuses to hold press conferences has audacity to attack @realDonaldTrump for his press confer…',\n",
       " \"@MaryannDaron @realDonaldTrump @seanhannity @FoxNews @HillaryClinton LOL is that was strong looks like? There's a huge disconnect here lol 😂\",\n",
       " '😂😂😂 @HillaryClinton who refuses to hold press conferences has audacity to attack @realDonaldTrump for his press conference 😂😂😂',\n",
       " 'Decided to vote @HillaryClinton based on her cameo on Broad City. 😂😭😭😂😂😂',\n",
       " 'RT @melanieusn1979: 😳😳\\U0001f914\\U0001f914😂😂. .@jturnershow Brilliant, funny historical & prophetic! MUST WATCH all 2 get it! .@HillaryClinton .@LouDobbs htt…',\n",
       " '@chrislhayes @HillaryClinton @RalphNader What no interview with the next President of the United States @DavidAFrench? 😂😂😂',\n",
       " '😳😳\\U0001f914\\U0001f914😂😂. .@jturnershow Brilliant, funny historical & prophetic! MUST WATCH all 2 get it! .@HillaryClinton .@LouDobbs https://t.co/IAYXNslhSb',\n",
       " '😳😳\\U0001f914\\U0001f914😂😂. .@jturnershow Brilliant, funny historical & prophetic! MUST WATCH all 2 get it! .@HillaryClinton .@LouDobbs https://t.co/KTZ8PVyiN7',\n",
       " \"@BBJedi86 @DavidShuster @JordanChariton   It would look worse if @HillaryClinton's arrested for lying to @FBI 😂 https://t.co/xyblIhBYZ1\",\n",
       " 'How tf @HillaryClinton is a hair icon when her hair is drying than her 🐱 bill cheated on? 😂',\n",
       " \"@Spacekatgal @HillaryClinton That's hilarious 😂😂😂😂!!!!! #ImWithHer\",\n",
       " '@JerryBrownGov @davidsiders @DavidCornDC @HillaryClinton @taddevine 😂😂😂💊👀🔫 🇺🇸💙👠👠 https://t.co/RA84FMRuG8',\n",
       " \"@politico @HillaryClinton @BernieSanders crushing. Nice choice of words. Let's all trust Politico. 😂\",\n",
       " \"@CJEM1226 @HillaryClinton @realDonaldTrump I would be comfortable assuming Hillary doesn't have a problem with unwanted sexual advances😂😂😂😂\",\n",
       " '@CNNSitRoom Hey, Crooked @HillaryClinton, show us the $$$ you raised for the Vets. 😂😂😂😂@realDonaldTrump https://t.co/du8wkqqkpF',\n",
       " \"@AGirl4Bernie @HillaryClinton @latimes @JerryBrownGov you're so angry, time out sweetie 😂😂 https://t.co/86gRpGKyVT\",\n",
       " \"@HillaryClinton @realDonaldTrump so he's not a big fan of prisoners of war and you are?. 😂 wha?! I'm CoNfuSed!\",\n",
       " \"@AGirl4Bernie @HillaryClinton @latimes @JerryBrownGov What FACTS would those be sweetie? Oh wait, it's ALL rigged right? THOSE facts? 😂😂😂😂😂\",\n",
       " \"@TokingDrumpf @HillaryClinton @latimes Drop out? Why? She's #WINNING 😂😂\",\n",
       " '@Don_Vito_08 @jonlen1 @layla07122 @HillaryClinton You are just like The Donald😂😂😂😂😂😂man up',\n",
       " '@OhThatLinsane @HillaryClinton @latimes @JerryBrownGov unless Bernie wins though, right? 😂😂',\n",
       " 'STOP TRYING TO PUT @HillaryClinton AND @realDonaldTrump IN THE SAME REALM OF REALITY #BERNBOTS I KNOW YALL DESPERATE BUT NOT PSYCHOTIC!!! 😂😂',\n",
       " '@HillaryClinton @latimes @JerryBrownGov your gonna lose😂 https://t.co/UK0fG71OtL',\n",
       " '@YouTube @HillaryClinton @BarackObama @InfoWarsChannel 💪\\U0001f3fc😂',\n",
       " '@YahooNews Right😂😂😂😂 No I believe her. Video or it never happened. @stableford @HillaryClinton #ListenAndBelieve',\n",
       " '@HillaryClinton @NRDC_AF @Medium any chance of a RT for https://t.co/si22pGgbUZ all proceeds to go to @josephs goal. Cheers 😂',\n",
       " '@RobProvince @TheLeadCNN @HillaryClinton @jaketapper @CNN 😂😂😂😂😂😂😂Hell no!',\n",
       " '@kmjdu @TheYoungTurks @BernieSanders @HillaryClinton I like how you refuse to accept facts or Numbers... Typical #Hillbot 😂😂😂',\n",
       " \"I've been blocked by a bunch of angry @HillaryClinton supporters today. Geez, you folks have some thin skin for all the noise you make. 😂\",\n",
       " 'Strongly feel when @HillaryClinton is indicted all her supporters and endorsers are going to be running for the nearest exit😂😂😂😂😂😂 #Crickets',\n",
       " '@kmjdu @TheYoungTurks @BernieSanders @HillaryClinton They included him those polls problem is that he is liked 😂😂😂',\n",
       " '@Esma3eel_B @HillaryClinton انزين ليش 😂😂😂😂',\n",
       " 'Dread idea of @HillaryClinton handling international issues after secretary of state job. Her assistant incompetent her husband Ant Weiner😂',\n",
       " \"@HillaryClinton can't even protect her emails and y'all expect her to protect an entire country? 😂 #FeelTheBern #CAForBernie #BernieOrBust\",\n",
       " 'RT @GRohrback: @HillaryClinton  Happy Memorial day😂 https://t.co/c2cRVUyYyY',\n",
       " 'RT @lolalolita0: @JoMadRam @3XT1 @Brooks8314 @HillaryClinton GOP makes the mess, Trumpsters blame Obama. ,😂😂😂 #NeverTrump https://t.co/4ksl…',\n",
       " '@SonsofReagan good one! Lol😂 @CR @HillaryClinton',\n",
       " \"Hahahahahahahahahahahahahahahahahahahahahahahahaha!! No they didn't!!😂😂 @HillaryClinton https://t.co/LE9ccTRdbs\",\n",
       " \"RT @Carolde: Dear @HillaryClinton  It's all fun N games playing Musical Chairs till the music stops and U have no chair #Trump 😂😂 https://t…\",\n",
       " '@VICE Ha! 😂 Great way to symbolize @realDonaldTrump as @KimJongNumberUn @HillaryClinton',\n",
       " '@lolalolita0 👉@3XT1 @Brooks8314 👈RWTrollBot is broken 😂😂😂#ChickenTrump #NeverTrump @HillaryClinton https://t.co/VDVBjHe40l',\n",
       " '@HillaryClinton #HotAir @realDonaldTrump 😂😂🇺🇸🇺🇸🇺🇸 https://t.co/5VE8XC0aIp',\n",
       " 'RT @lolalolita0: @JoMadRam @3XT1 @Brooks8314 @HillaryClinton GOP makes the mess, Trumpsters blame Obama. ,😂😂😂 #NeverTrump https://t.co/4ksl…',\n",
       " '@JoMadRam @3XT1 @Brooks8314 @HillaryClinton GOP makes the mess, Trumpsters blame Obama. ,😂😂😂 #NeverTrump https://t.co/4kslURaoW5',\n",
       " 'RT @Tintinmameluko: @IamAntoineDo @reaDonaldTrump @HillaryClinton @realDonaldTrump 😂😂😂 #CrookedHillary https://t.co/m2ohYhber4',\n",
       " 'RT @pink_sprnva: Lol😂 @TheLastRefuge2 @Cronikeys @jaketapper @TheLeadCNN @HillaryClinton  This is like drug dealers interviewing ElChapy 😂S…',\n",
       " 'Let me know how that Jill Stein #revolution goes? ttys 😂😚 @sohrob @OWS_ellie @stylistkavin @HillaryClinton',\n",
       " \"@OWS_ellie @MMASOCCERFAN @stylistkavin @HillaryClinton he's a pro-war, pro-corporate greed, pro-bought elections kind of Democrat. 😂\",\n",
       " \"@KrisODavis @HillaryClinton  that's sexy, though. 😂  https://t.co/vN6BTnUCHM\",\n",
       " 'Lol😂 @TheLastRefuge2 @Cronikeys @jaketapper @TheLeadCNN @HillaryClinton  This is like drug dealers interviewing ElChapy 😂Surely all honest \\U0001f644',\n",
       " \"RT @Carolde: Dear @HillaryClinton  It's all fun N games playing Musical Chairs till the music stops and U have no chair #Trump 😂😂 https://t…\",\n",
       " '@NolteNC @Rockprincess818 @benfergusonshow A set up by @HillaryClinton 🐍that backfired. And  @realDonaldTrump did NOT want to play that way😂',\n",
       " '@CNNPolitics @GregJKrieg 😂😂😂 In her dreams if this Twitter feed is accurate! @realDonaldTrump @HillaryClinton #TwitterPoll',\n",
       " 'RT @GRohrback: @HillaryClinton  Happy Memorial day😂 https://t.co/c2cRVUyYyY',\n",
       " '@3XT1 TrumpBot is breaking down. Repeats same tweet over and over. 😂👏👏👏👏 @lolalolita0 @Brooks8314 @HillaryClinton https://t.co/4spjtnC1PX',\n",
       " '.@lubbockonline lol, at least with all of her controversies @HillaryClinton can keep a little humor in her life. 😂😂😂',\n",
       " 'Sounds familiar? 😂 @HillaryClinton https://t.co/JPDrEAjEwN',\n",
       " '.@HillaryClinton Our summer reading. #imwither #HillaryForCA 😂🙌🇺🇸🇺🇸🇺🇸➡️➡️Visit https://t.co/J2V0nLYaRJ! https://t.co/DYC7SWMLOZ',\n",
       " \"@JordanChariton @HillaryClinton it's funny the msm think endorsements from other establishment politicians mean anything 😂😂😂😂\",\n",
       " 'Although criminal @HillaryClinton will win the nomination the whacko socialist will win California on the day she clinches the nom 😂😂😂',\n",
       " \"@HillaryClinton I've got line for you. I did not have Sexual relations with @EboniKWilliams 😂😂😂😂\",\n",
       " \"@dalseyd @keiferla @HillaryClinton @HollandforBern When will Hillary #ReleaseTheTranscripts? Or maybe they're on that email server? 😂\",\n",
       " 'RT @sharonhough: @JordanChariton @HillaryClinton Nice advertising at the bottom of your screenshot 😂😂😂',\n",
       " '@JordanChariton @HillaryClinton Nice advertising at the bottom of your screenshot 😂😂😂',\n",
       " 'RT @pinecohen: @HillaryClinton @JerryBrownGov   Imagining that Hillary could keep an oath. 😂',\n",
       " '@HillaryClinton It has no effect what a waste of money 😂 you will lose this election then the new AG will hold you accountable 4 everything',\n",
       " \"@AdamAddict That's not a ballot you liars. That's a voter guide endorsing @BernieSanders. @HillaryClinton supporters don't even lie well.😂\",\n",
       " \"@ZeldaFan180 That's not a ballot you liars. That's a voter guide endorsing @BernieSanders. @HillaryClinton supporters don't even lie well.😂\",\n",
       " 'RT @lolalolita0: @3XT1 @jorgemattea @Brooks8314 @elizabeth28536 @JoMadRam @TheDemocrats @HillaryClinton 😂😂 morans vote for Trump. https://t…',\n",
       " '@3XT1 @jorgemattea @Brooks8314 @elizabeth28536 @JoMadRam @TheDemocrats @HillaryClinton 😂😂 morans vote for Trump. https://t.co/ICCyxu4ShQ',\n",
       " '@IamAntoineDo @reaDonaldTrump @HillaryClinton @realDonaldTrump 😂😂😂 #CrookedHillary https://t.co/m2ohYhber4',\n",
       " \"😂😂😂😂 @HillaryClinton keeping an oath! I don't think she knows the meaning of that word!! https://t.co/RfTPSV70vT\",\n",
       " '@HillaryClinton @JerryBrownGov   Imagining that Hillary could keep an oath. 😂',\n",
       " '@HillaryClinton @JerryBrownGov when hell freezes over 😂',\n",
       " 'https://t.co/kaasskp85t @HillaryClinton  😂😂😂',\n",
       " \"Crooked @HillaryClinton can't even beat Crazy Socialist @BernieSanders . Do y'all really think she has a chance against @realDonaldTrump . 😂\",\n",
       " \"...Dilma Roussef y....también otras, pero LO PEOR PARA EL MUNDO sería q' @HillaryClinton fuese presidenta de USA😂🍻😅 #MakeAmericaGreatAgain\",\n",
       " '@thesamdaly @HillaryClinton @realDonaldTrump @BernieSanders @TimmyDaly @KristinSusanL @DalyShowTV Kristin & I are CACKLING at this 😂😂😂',\n",
       " '@HillaryClinton You just got endorsed by Jerry \\'Moonbeam\\' Brown, who called your husband the \\\\King of Sleaze\\\\\". Nice friends you have😂!\"',\n",
       " '@HillaryClinton supporters are an arrogant bunch. And they expect Bernie supporters to fall in line! 😂 #NotWithHer https://t.co/OXU9o5GUyF',\n",
       " '@treyinla @Catballou @HillaryClinton : The top right insert picture of Jesus Christ says it all lol😂😂',\n",
       " '@CNN @jaketapper gives @HillaryClinton / #CrookedHillary a rim-job at 4pm eastern. Whoops I meant interview?😂😂',\n",
       " \"@MMASOCCERFAN @stylistkavin @HillaryClinton re HRC supporters, now we can't tell if they're just her paid trollers 😂 https://t.co/AxziuQyaN2\",\n",
       " 'RT @GRohrback: @HillaryClinton  Happy Memorial day😂 https://t.co/c2cRVUyYyY',\n",
       " 'RT @GolightlyGrl427: BAM! Find out how much @HillaryClinton has given to our Vets , @realDonaldTrump to a reporter 😂',\n",
       " '@darealgenaro @MichaelSkolnik @HillaryClinton Lol whatever you say. 😂😂😂😂😂not taking the bait!',\n",
       " 'BAM! Find out how much @HillaryClinton has given to our Vets , @realDonaldTrump to a reporter 😂',\n",
       " 'RT @DoubleEagle49: According to @BillKristol the #LP is going to challenge @realDonaldTrump & @HillaryClinton for President. 😂😂😂😂😂😂😂😂😂😂 htt…',\n",
       " 'https://t.co/4hsNV3mMzd @HillaryClinton Lieing for 13 minutes on issues and you attack @realDonaldTrump for Veterans?😂😂😂#NeverHillary',\n",
       " \"RT @Carolde: Dear @HillaryClinton  It's all fun N games playing Musical Chairs till the music stops and U have no chair #Trump 😂😂 https://t…\",\n",
       " 'I will be so happy when @HillaryClinton gets 2383 and #bernieorbust CROWDS CAN GO LAY DOWN AND CRY!!! 😂😂😂😂😂',\n",
       " '@WLMcom @HillaryClinton 😂😂',\n",
       " '@amazinmikey @NRA @realDonaldTrump @HillaryClinton You Have a To Admit.... It Does Look Like You A Little Bit??.........Little Bit?? 😂😂',\n",
       " '@helpingtheigno1 @NostrumRemedium @HillaryClinton  Your handle.. You helping yourself? 😂😂',\n",
       " 'CaliBERNia!   @HillaryClinton is \\\\panicking\\\\\" & rushing to CA Hoping some gym rallies for 200 can stop the BERNING 😂 https://t.co/ymNnrzHQN6\"',\n",
       " '@helpingtheigno1 @NostrumRemedium @HillaryClinton 😂😂 like I said, take your desperation somewhere someone gives a shit.',\n",
       " \"@nprpolitics @HillaryClinton @realDonaldTrump Can't wait to hear the stupid sh*t #DonaldTrump will say about the governor. Worst gov ever! 😂\",\n",
       " \"@NickyHilton @ParisHilton @Newsweek @melindagates @RoyalFamily @Pontifex @POTUS @HillaryClinton @ABC @UN @USATODAY at Trump's popularitiegh😂\",\n",
       " \"@HillaryClinton You make me laugh your so freaking fake and you don't even tweet this on your own so your double fake lol 😂\",\n",
       " '@jjjonezen @HillaryClinton wtf is wrong with you 😬😂',\n",
       " 'Weak 😂😂😂😂@ShaunTrickdYall @postpolitics @HillaryClinton @washingtonpost',\n",
       " 'RT @rmiskimens: @trekkerteach12 @NRDC_AF @HillaryClinton @taddevine @dailykos I love it when Berners use a RW rag as a source!!! 😂😂😂😂😂',\n",
       " 'RWNJ @WashTimes links about the names ppl call @HillaryClinton = your \\\\well documented\\\\\" proof? #LOL 😂 @trekkerteach12 @rmiskimens @NRDC_AF\"',\n",
       " '@SilvanaCNBC @realDonaldTrump @HillaryClinton @WSJ 😂 not scared. He will take more Bernie supporters then anyone',\n",
       " '@trekkerteach12 @NRDC_AF @HillaryClinton @taddevine @dailykos I love it when Berners use a RW rag as a source!!! 😂😂😂😂😂',\n",
       " \"@Morning_Joe @HillaryClinton Joe is concerned he looks like he's gonna cry😂dont worry Joe I'm sure Hillary will throw u n MIKA a few scraps\",\n",
       " '@LEQ79 @UltimateTennis_ @HillaryClinton by stealing their money and bankrupting the country? That\\'s a funny way to show \\\\love\\\\\". 😂👍\\U0001f3fc\"',\n",
       " \"@Morning_Joe @HillaryClinton @realDonaldTrump we NYrs know Trump is good at building infrastructure and nothing else he's play'n the masses😂\",\n",
       " \"@carpediem1013 @freegalt @BillKristol @HillaryClinton @realDonaldTrump  But Trump loves polls! Oh that's right, only when favor him 😂\",\n",
       " '@marygray6028 @Morning_Joe @HillaryClinton @realDonaldTrump U GOT IT GIRL! Why u think fast waited 2GUT #MSNBC IN 2016😂😉',\n",
       " 'RT @Conservative_VW: This goes for @HillaryClinton too  😂😂😂😂 https://t.co/7ytCLhKadx',\n",
       " '@OldDreamer1 @ActualFlatticus @StellaStar711 @kokeshi_me @realDonaldTrump @HillaryClinton blocked? Oh, what will I do w/out ur wisdom. 😂😂😂',\n",
       " '@MSNBC @BernieSanders @HillaryClinton @stevej132 NOW AS MUCH AS @billclinton NOBODY CAN HURT HER LIKE HIM SHE ENABLES HIM SO ENABLE BERNIE😂',\n",
       " '@HillaryClinton how many people show up to see you at Oakland hmm? 😂 #BernieOrBust',\n",
       " '@MSNBC @BernieSanders @HillaryClinton not as much as lying hurts @HillaryClinton  😂',\n",
       " \"RT @Carolde: Dear @HillaryClinton  It's all fun N games playing Musical Chairs till the music stops and U have no chair #Trump 😂😂 https://t…\"]"
      ]
     },
     "execution_count": 63,
     "metadata": {},
     "output_type": "execute_result"
    }
   ],
   "source": [
    "emojiExamples"
   ]
  },
  {
   "cell_type": "code",
   "execution_count": 60,
   "metadata": {
    "collapsed": false
   },
   "outputs": [
    {
     "data": {
      "text/plain": [
       "['@hillaryclinton',\n",
       " 'when',\n",
       " 'trump',\n",
       " \"isn't\",\n",
       " 'lying',\n",
       " 'on',\n",
       " 'natl',\n",
       " 'tv',\n",
       " 'or',\n",
       " 'at',\n",
       " 'rallies',\n",
       " 'he',\n",
       " 'likes',\n",
       " '2',\n",
       " 'talk',\n",
       " 'about',\n",
       " 'ratings',\n",
       " 'how',\n",
       " 'rich',\n",
       " 'he',\n",
       " 'is',\n",
       " 'and',\n",
       " 'how',\n",
       " 'much',\n",
       " 'he',\n",
       " 'loves',\n",
       " 'himself']"
      ]
     },
     "execution_count": 60,
     "metadata": {},
     "output_type": "execute_result"
    }
   ],
   "source": [
    "corpus['737824642740555777']"
   ]
  },
  {
   "cell_type": "code",
   "execution_count": 47,
   "metadata": {
    "collapsed": false
   },
   "outputs": [
    {
     "data": {
      "text/plain": [
       "36124"
      ]
     },
     "execution_count": 47,
     "metadata": {},
     "output_type": "execute_result"
    }
   ],
   "source": [
    "len(TF.keys())"
   ]
  },
  {
   "cell_type": "code",
   "execution_count": 160,
   "metadata": {
    "collapsed": false
   },
   "outputs": [
    {
     "data": {
      "text/plain": [
       "14217"
      ]
     },
     "execution_count": 160,
     "metadata": {},
     "output_type": "execute_result"
    }
   ],
   "source": [
    "# Get Vocabulary w/ Over 20 Occurances\n",
    "TF_XMore = {k:v for k, v in TF.items() if v > 2}\n",
    "len(TF_XMore)"
   ]
  },
  {
   "cell_type": "code",
   "execution_count": 43,
   "metadata": {
    "collapsed": false
   },
   "outputs": [],
   "source": [
    "topWords = pd.DataFrame.from_dict(TF_XMore, orient = 'index')\n",
    "topWords.columns = ['TF']\n",
    "topWords.sort_values(ascending = False, inplace = True, by = 'TF')"
   ]
  },
  {
   "cell_type": "code",
   "execution_count": 44,
   "metadata": {
    "collapsed": false,
    "scrolled": true
   },
   "outputs": [
    {
     "data": {
      "text/html": [
       "<div>\n",
       "<table border=\"1\" class=\"dataframe\">\n",
       "  <thead>\n",
       "    <tr style=\"text-align: right;\">\n",
       "      <th></th>\n",
       "      <th>TF</th>\n",
       "    </tr>\n",
       "  </thead>\n",
       "  <tbody>\n",
       "    <tr>\n",
       "      <th>@hillaryclinton</th>\n",
       "      <td>74351</td>\n",
       "    </tr>\n",
       "    <tr>\n",
       "      <th>rt</th>\n",
       "      <td>44358</td>\n",
       "    </tr>\n",
       "    <tr>\n",
       "      <th>to</th>\n",
       "      <td>22669</td>\n",
       "    </tr>\n",
       "    <tr>\n",
       "      <th>of</th>\n",
       "      <td>16956</td>\n",
       "    </tr>\n",
       "    <tr>\n",
       "      <th>is</th>\n",
       "      <td>14953</td>\n",
       "    </tr>\n",
       "    <tr>\n",
       "      <th>you</th>\n",
       "      <td>13086</td>\n",
       "    </tr>\n",
       "    <tr>\n",
       "      <th>for</th>\n",
       "      <td>12403</td>\n",
       "    </tr>\n",
       "    <tr>\n",
       "      <th>@realdonaldtrump</th>\n",
       "      <td>10529</td>\n",
       "    </tr>\n",
       "    <tr>\n",
       "      <th>in</th>\n",
       "      <td>10134</td>\n",
       "    </tr>\n",
       "    <tr>\n",
       "      <th>and</th>\n",
       "      <td>9877</td>\n",
       "    </tr>\n",
       "    <tr>\n",
       "      <th>that</th>\n",
       "      <td>9234</td>\n",
       "    </tr>\n",
       "    <tr>\n",
       "      <th>on</th>\n",
       "      <td>8058</td>\n",
       "    </tr>\n",
       "    <tr>\n",
       "      <th>i</th>\n",
       "      <td>7863</td>\n",
       "    </tr>\n",
       "    <tr>\n",
       "      <th>hillary</th>\n",
       "      <td>7182</td>\n",
       "    </tr>\n",
       "    <tr>\n",
       "      <th>not</th>\n",
       "      <td>7035</td>\n",
       "    </tr>\n",
       "    <tr>\n",
       "      <th>trump</th>\n",
       "      <td>6285</td>\n",
       "    </tr>\n",
       "    <tr>\n",
       "      <th>it</th>\n",
       "      <td>6244</td>\n",
       "    </tr>\n",
       "    <tr>\n",
       "      <th>s</th>\n",
       "      <td>6237</td>\n",
       "    </tr>\n",
       "    <tr>\n",
       "      <th>be</th>\n",
       "      <td>6087</td>\n",
       "    </tr>\n",
       "    <tr>\n",
       "      <th>has</th>\n",
       "      <td>5859</td>\n",
       "    </tr>\n",
       "    <tr>\n",
       "      <th>what</th>\n",
       "      <td>5764</td>\n",
       "    </tr>\n",
       "    <tr>\n",
       "      <th>about</th>\n",
       "      <td>5685</td>\n",
       "    </tr>\n",
       "    <tr>\n",
       "      <th>are</th>\n",
       "      <td>5392</td>\n",
       "    </tr>\n",
       "    <tr>\n",
       "      <th>her</th>\n",
       "      <td>5233</td>\n",
       "    </tr>\n",
       "    <tr>\n",
       "      <th>like</th>\n",
       "      <td>5082</td>\n",
       "    </tr>\n",
       "    <tr>\n",
       "      <th>he</th>\n",
       "      <td>5073</td>\n",
       "    </tr>\n",
       "    <tr>\n",
       "      <th>we</th>\n",
       "      <td>4918</td>\n",
       "    </tr>\n",
       "    <tr>\n",
       "      <th>@berniesanders</th>\n",
       "      <td>4816</td>\n",
       "    </tr>\n",
       "    <tr>\n",
       "      <th>@jerrybrowngov</th>\n",
       "      <td>4703</td>\n",
       "    </tr>\n",
       "    <tr>\n",
       "      <th>our</th>\n",
       "      <td>4650</td>\n",
       "    </tr>\n",
       "    <tr>\n",
       "      <th>...</th>\n",
       "      <td>...</td>\n",
       "    </tr>\n",
       "    <tr>\n",
       "      <th>every</th>\n",
       "      <td>969</td>\n",
       "    </tr>\n",
       "    <tr>\n",
       "      <th>they're</th>\n",
       "      <td>963</td>\n",
       "    </tr>\n",
       "    <tr>\n",
       "      <th>interview</th>\n",
       "      <td>960</td>\n",
       "    </tr>\n",
       "    <tr>\n",
       "      <th>been</th>\n",
       "      <td>955</td>\n",
       "    </tr>\n",
       "    <tr>\n",
       "      <th>@potus</th>\n",
       "      <td>954</td>\n",
       "    </tr>\n",
       "    <tr>\n",
       "      <th>around</th>\n",
       "      <td>951</td>\n",
       "    </tr>\n",
       "    <tr>\n",
       "      <th>human</th>\n",
       "      <td>941</td>\n",
       "    </tr>\n",
       "    <tr>\n",
       "      <th>rest</th>\n",
       "      <td>939</td>\n",
       "    </tr>\n",
       "    <tr>\n",
       "      <th>here's</th>\n",
       "      <td>937</td>\n",
       "    </tr>\n",
       "    <tr>\n",
       "      <th>#crookedhillary</th>\n",
       "      <td>930</td>\n",
       "    </tr>\n",
       "    <tr>\n",
       "      <th>still</th>\n",
       "      <td>929</td>\n",
       "    </tr>\n",
       "    <tr>\n",
       "      <th>via</th>\n",
       "      <td>915</td>\n",
       "    </tr>\n",
       "    <tr>\n",
       "      <th>go</th>\n",
       "      <td>894</td>\n",
       "    </tr>\n",
       "    <tr>\n",
       "      <th>bernie</th>\n",
       "      <td>892</td>\n",
       "    </tr>\n",
       "    <tr>\n",
       "      <th>says</th>\n",
       "      <td>887</td>\n",
       "    </tr>\n",
       "    <tr>\n",
       "      <th>day</th>\n",
       "      <td>875</td>\n",
       "    </tr>\n",
       "    <tr>\n",
       "      <th>make</th>\n",
       "      <td>875</td>\n",
       "    </tr>\n",
       "    <tr>\n",
       "      <th>because</th>\n",
       "      <td>870</td>\n",
       "    </tr>\n",
       "    <tr>\n",
       "      <th>most</th>\n",
       "      <td>865</td>\n",
       "    </tr>\n",
       "    <tr>\n",
       "      <th>were</th>\n",
       "      <td>865</td>\n",
       "    </tr>\n",
       "    <tr>\n",
       "      <th>ca</th>\n",
       "      <td>857</td>\n",
       "    </tr>\n",
       "    <tr>\n",
       "      <th>proud</th>\n",
       "      <td>854</td>\n",
       "    </tr>\n",
       "    <tr>\n",
       "      <th>poll</th>\n",
       "      <td>851</td>\n",
       "    </tr>\n",
       "    <tr>\n",
       "      <th>forced</th>\n",
       "      <td>849</td>\n",
       "    </tr>\n",
       "    <tr>\n",
       "      <th>you're</th>\n",
       "      <td>847</td>\n",
       "    </tr>\n",
       "    <tr>\n",
       "      <th>trafficking</th>\n",
       "      <td>843</td>\n",
       "    </tr>\n",
       "    <tr>\n",
       "      <th>words</th>\n",
       "      <td>828</td>\n",
       "    </tr>\n",
       "    <tr>\n",
       "      <th>campaign</th>\n",
       "      <td>819</td>\n",
       "    </tr>\n",
       "    <tr>\n",
       "      <th>crooked</th>\n",
       "      <td>814</td>\n",
       "    </tr>\n",
       "    <tr>\n",
       "      <th>first-ever</th>\n",
       "      <td>813</td>\n",
       "    </tr>\n",
       "  </tbody>\n",
       "</table>\n",
       "<p>200 rows × 1 columns</p>\n",
       "</div>"
      ],
      "text/plain": [
       "                     TF\n",
       "@hillaryclinton   74351\n",
       "rt                44358\n",
       "to                22669\n",
       "of                16956\n",
       "is                14953\n",
       "you               13086\n",
       "for               12403\n",
       "@realdonaldtrump  10529\n",
       "in                10134\n",
       "and                9877\n",
       "that               9234\n",
       "on                 8058\n",
       "i                  7863\n",
       "hillary            7182\n",
       "not                7035\n",
       "trump              6285\n",
       "it                 6244\n",
       "s                  6237\n",
       "be                 6087\n",
       "has                5859\n",
       "what               5764\n",
       "about              5685\n",
       "are                5392\n",
       "her                5233\n",
       "like               5082\n",
       "he                 5073\n",
       "we                 4918\n",
       "@berniesanders     4816\n",
       "@jerrybrowngov     4703\n",
       "our                4650\n",
       "...                 ...\n",
       "every               969\n",
       "they're             963\n",
       "interview           960\n",
       "been                955\n",
       "@potus              954\n",
       "around              951\n",
       "human               941\n",
       "rest                939\n",
       "here's              937\n",
       "#crookedhillary     930\n",
       "still               929\n",
       "via                 915\n",
       "go                  894\n",
       "bernie              892\n",
       "says                887\n",
       "day                 875\n",
       "make                875\n",
       "because             870\n",
       "most                865\n",
       "were                865\n",
       "ca                  857\n",
       "proud               854\n",
       "poll                851\n",
       "forced              849\n",
       "you're              847\n",
       "trafficking         843\n",
       "words               828\n",
       "campaign            819\n",
       "crooked             814\n",
       "first-ever          813\n",
       "\n",
       "[200 rows x 1 columns]"
      ]
     },
     "execution_count": 44,
     "metadata": {},
     "output_type": "execute_result"
    }
   ],
   "source": [
    "topWords[0:20]"
   ]
  },
  {
   "cell_type": "markdown",
   "metadata": {},
   "source": [
    "## Topic Modeling Tweets"
   ]
  },
  {
   "cell_type": "code",
   "execution_count": 48,
   "metadata": {
    "collapsed": false
   },
   "outputs": [
    {
     "name": "stdout",
     "output_type": "stream",
     "text": [
      "Collecting lda\n",
      "  Downloading lda-1.0.3-cp34-cp34m-macosx_10_6_intel.macosx_10_9_intel.macosx_10_9_x86_64.macosx_10_10_intel.macosx_10_10_x86_64.whl (385kB)\n",
      "\u001b[K    100% |████████████████████████████████| 389kB 922kB/s \n",
      "\u001b[?25hCollecting pbr>=0.6 (from lda)\n",
      "  Downloading pbr-1.10.0-py2.py3-none-any.whl (96kB)\n",
      "\u001b[K    100% |████████████████████████████████| 102kB 5.2MB/s \n",
      "\u001b[?25hRequirement already satisfied (use --upgrade to upgrade): numpy<2.0,>=1.6.1 in /Applications/anaconda/lib/python3.4/site-packages (from lda)\n",
      "Installing collected packages: pbr, lda\n",
      "Successfully installed lda-1.0.3 pbr-1.10.0\n",
      "\u001b[33mYou are using pip version 8.0.3, however version 8.1.2 is available.\n",
      "You should consider upgrading via the 'pip install --upgrade pip' command.\u001b[0m\n"
     ]
    }
   ],
   "source": [
    "! pip install lda"
   ]
  },
  {
   "cell_type": "code",
   "execution_count": 37,
   "metadata": {
    "collapsed": false
   },
   "outputs": [],
   "source": [
    "import lda"
   ]
  },
  {
   "cell_type": "code",
   "execution_count": 38,
   "metadata": {
    "collapsed": true
   },
   "outputs": [],
   "source": [
    "import lda.datasets"
   ]
  },
  {
   "cell_type": "code",
   "execution_count": 39,
   "metadata": {
    "collapsed": true
   },
   "outputs": [],
   "source": [
    "# Function to remove all words not in wordlist\n",
    "def keepWords(text, wordList):\n",
    "    newList = [t for t in text if t in wordList]\n",
    "    return newList"
   ]
  },
  {
   "cell_type": "code",
   "execution_count": 100,
   "metadata": {
    "collapsed": false
   },
   "outputs": [],
   "source": [
    "# Filter Vocabulary to Only Words w/ Greater than 5 Occurances (Removing Tail Words)\n",
    "TF = getTermFreq(tokenList)\n",
    "# Get Vocabulary w/ Over 5 Occurances\n",
    "TF_XMore = {k:v for k, v in TF.items() if v > 5}\n",
    "len(TF_XMore)\n",
    "words_XMore = list(TF_XMore.keys())\n",
    "tokenList = [keepWords(i, words_XMore) for i in tokenList]"
   ]
  },
  {
   "cell_type": "code",
   "execution_count": 101,
   "metadata": {
    "collapsed": false
   },
   "outputs": [],
   "source": [
    "corpus = {HC.loc[i,'statusId']: tokenList[i] for i in range(0,len(tokenList))}"
   ]
  },
  {
   "cell_type": "markdown",
   "metadata": {},
   "source": [
    "##### Reuteres Sample"
   ]
  },
  {
   "cell_type": "code",
   "execution_count": 55,
   "metadata": {
    "collapsed": true
   },
   "outputs": [],
   "source": [
    "X = lda.datasets.load_reuters()"
   ]
  },
  {
   "cell_type": "code",
   "execution_count": 56,
   "metadata": {
    "collapsed": false
   },
   "outputs": [
    {
     "data": {
      "text/plain": [
       "(395, 4258)"
      ]
     },
     "execution_count": 56,
     "metadata": {},
     "output_type": "execute_result"
    }
   ],
   "source": [
    "X.shape"
   ]
  },
  {
   "cell_type": "code",
   "execution_count": 143,
   "metadata": {
    "collapsed": true
   },
   "outputs": [],
   "source": [
    "vocab = lda.datasets.load_reuters_vocab()"
   ]
  },
  {
   "cell_type": "code",
   "execution_count": null,
   "metadata": {
    "collapsed": true
   },
   "outputs": [],
   "source": [
    "titles = lda.datasets.load_reuters_titles()"
   ]
  },
  {
   "cell_type": "code",
   "execution_count": 178,
   "metadata": {
    "collapsed": false
   },
   "outputs": [
    {
     "name": "stdout",
     "output_type": "stream",
     "text": [
      "Topic 0: british churchill sale million major letters west britain\n",
      "Topic 1: church government political country state people party against\n",
      "Topic 2: elvis king fans presley life concert young death\n",
      "Topic 3: yeltsin russian russia president kremlin moscow michael operation\n",
      "Topic 4: pope vatican paul john surgery hospital pontiff rome\n",
      "Topic 5: family funeral police miami versace cunanan city service\n",
      "Topic 6: simpson former years court president wife south church\n",
      "Topic 7: order mother successor election nuns church nirmala head\n",
      "Topic 8: charles prince diana royal king queen parker bowles\n",
      "Topic 9: film french france against bardot paris poster animal\n",
      "Topic 10: germany german war nazi letter christian book jews\n",
      "Topic 11: east peace prize award timor quebec belo leader\n",
      "Topic 12: n't life show told very love television father\n",
      "Topic 13: years year time last church world people say\n",
      "Topic 14: mother teresa heart calcutta charity nun hospital missionaries\n",
      "Topic 15: city salonika capital buddhist cultural vietnam byzantine show\n",
      "Topic 16: music tour opera singer israel people film israeli\n",
      "Topic 17: church catholic bernardin cardinal bishop wright death cancer\n",
      "Topic 18: harriman clinton u.s ambassador paris president churchill france\n",
      "Topic 19: city museum art exhibition century million churches set\n",
      "0:00:48.606528\n"
     ]
    }
   ],
   "source": [
    "start = datetime.datetime.now()\n",
    "model = lda.LDA(n_topics=20, n_iter=1500, random_state=1)\n",
    "model.fit(X)  # model.fit_transform(X) is also available\n",
    "topic_word = model.topic_word_  # model.components_ also works\n",
    "n_top_words = 8\n",
    "for i, topic_dist in enumerate(topic_word):\n",
    "    topic_words = np.array(vocab)[np.argsort(topic_dist)][:-(n_top_words+1):-1]\n",
    "    print('Topic {}: {}'.format(i, ' '.join(topic_words)))\n",
    "runtime = datetime.datetime.now()-start\n",
    "print(str(runtime))"
   ]
  },
  {
   "cell_type": "markdown",
   "metadata": {},
   "source": [
    "##### Running w/ Political Tweets"
   ]
  },
  {
   "cell_type": "markdown",
   "metadata": {},
   "source": [
    "Functions to Generate a Document-Term Matrix"
   ]
  },
  {
   "cell_type": "code",
   "execution_count": 41,
   "metadata": {
    "collapsed": true
   },
   "outputs": [],
   "source": [
    "def create_countVectors(tokens):\n",
    "    doc_TF = {}\n",
    "    for token in tokens:\n",
    "        if token in doc_TF:\n",
    "            doc_TF[token] += 1\n",
    "        else:\n",
    "            doc_TF[token] = 1\n",
    "    return doc_TF"
   ]
  },
  {
   "cell_type": "code",
   "execution_count": 42,
   "metadata": {
    "collapsed": true
   },
   "outputs": [],
   "source": [
    "def createDTM(corpus):\n",
    "    dtmHASH = {}\n",
    "    for key in corpus.keys():\n",
    "        dtmHASH[key] = create_countVectors(corpus[key])\n",
    "    return dtmHASH"
   ]
  },
  {
   "cell_type": "code",
   "execution_count": 102,
   "metadata": {
    "collapsed": false
   },
   "outputs": [],
   "source": [
    "dtm = createDTM(corpus)"
   ]
  },
  {
   "cell_type": "markdown",
   "metadata": {},
   "source": [
    "Transform the DTM to Matrix to Run in LDA Function"
   ]
  },
  {
   "cell_type": "code",
   "execution_count": 103,
   "metadata": {
    "collapsed": false
   },
   "outputs": [],
   "source": [
    "dtm_df = pd.DataFrame.from_dict(dtm, orient = 'index')"
   ]
  },
  {
   "cell_type": "code",
   "execution_count": 104,
   "metadata": {
    "collapsed": false
   },
   "outputs": [],
   "source": [
    "dtm_df.fillna(0, inplace = True)"
   ]
  },
  {
   "cell_type": "code",
   "execution_count": 105,
   "metadata": {
    "collapsed": false
   },
   "outputs": [],
   "source": [
    "dtm_df = dtm_df.astype(int)"
   ]
  },
  {
   "cell_type": "code",
   "execution_count": 106,
   "metadata": {
    "collapsed": true
   },
   "outputs": [],
   "source": [
    "dtm_matrix = dtm_df.as_matrix()"
   ]
  },
  {
   "cell_type": "code",
   "execution_count": 107,
   "metadata": {
    "collapsed": true
   },
   "outputs": [],
   "source": [
    "model = lda.LDA(n_topics=40, n_iter=1500, random_state=1)"
   ]
  },
  {
   "cell_type": "code",
   "execution_count": 108,
   "metadata": {
    "collapsed": false
   },
   "outputs": [
    {
     "name": "stdout",
     "output_type": "stream",
     "text": [
      "0:16:06.887251\n"
     ]
    }
   ],
   "source": [
    "start = datetime.datetime.now()\n",
    "model.fit(dtm_matrix)  # model.fit_transform(X) is also available\n",
    "runtime = datetime.datetime.now()-start\n",
    "print(str(runtime))"
   ]
  },
  {
   "cell_type": "code",
   "execution_count": 109,
   "metadata": {
    "collapsed": true
   },
   "outputs": [],
   "source": [
    "topic_word = model.topic_word_  # model.components_ also works\n",
    "n_top_words = 10\n",
    "vocab = dtm_df.columns"
   ]
  },
  {
   "cell_type": "code",
   "execution_count": 110,
   "metadata": {
    "collapsed": false
   },
   "outputs": [
    {
     "name": "stdout",
     "output_type": "stream",
     "text": [
      "Topic 0: @hillaryclinton, rt, hillary, #imwithher, not, go, stand, #caprimary, 10, 1992\n",
      "Topic 1: @hillaryclinton, rt, liar, one, not, lies, @neilturner_, she's, prison, please\n",
      "Topic 2: @hillaryclinton, rt, vote, record, still, trump, #imwithher, 🇸, 🇺, important\n",
      "Topic 3: trump, not, now, rt, even, he's, change, @hillaryclinton, climate, california\n",
      "Topic 4: @hillaryclinton, rt, @berniesanders, @jerrybrowngov, california, @politico, #feelthebern, #caprimary, #imwithher, new\n",
      "Topic 5: @hillaryclinton, rt, support, families, need, let's, give, words, service, deserve\n",
      "Topic 6: @hillaryclinton, rt, no, @fbi, @davidshuster, clinton, give, state, interview, not\n",
      "Topic 7: @hillaryclinton, benghazi, @realdonaldtrump, #benghazi, 4, rt, die, killed, don't, americans\n",
      "Topic 8: @hillaryclinton, don't, no, get, one, us, rt, think, right, time\n",
      "Topic 9: @hillaryclinton, rt, @berniesanders, email, allowed, it's, saying, democrats, see, ever\n",
      "Topic 10: @realdonaldtrump, war, rt, commander-in-chief, prisoners, @hillaryclinton, doesn't, like, wants, big\n",
      "Topic 11: @hillaryclinton, rt, @realdonaldtrump, h, @twright55, vote, support, done, @potus, @berniesanders\n",
      "Topic 12: @hillaryclinton, rt, @realdonaldtrump, poll, trump, @politico, she's, best, 2, beat\n",
      "Topic 13: @hillaryclinton, rt, #imwithher, care, veterans, #hillaryclinton, taking, part, americans, #sheswithus\n",
      "Topic 14: @hillaryclinton, rt, not, law, says, that's, could, #crookedhillary, get, america\n",
      "Topic 15: @hillaryclinton, rt, email, server, answer, @jaketapper, questions, chief, staff, watch\n",
      "Topic 16: @hillaryclinton, rt, de, trump, @jerrybrowngov, keep, no, going, don't, hillary\n",
      "Topic 17: @hillaryclinton, rt, @nrdc_af, proud, we're, fight, endorse, future, champion, who'll\n",
      "Topic 18: @hillaryclinton, rt, one, establishment, time, people, two, feel, #trump, serve\n",
      "Topic 19: @hillaryclinton, no, rt, vote, not, one, it's, people, time, america\n",
      "Topic 20: rt, @hillaryclinton, goldman, much, sachs, son-in-law, money, @theintercept, fund, ceo\n",
      "Topic 21: @hillaryclinton, rt, can't, world, millions, around, human, they're, rest, forced\n",
      "Topic 22: @hillaryclinton, @realdonaldtrump, vets, trump, much, money, @creynoldsnc, raised, veterans, foundation\n",
      "Topic 23: @hillaryclinton, rt, really, :face_with_tears_of_joy:, @rtraister, @realdonaldtrump, excellent, profile, @jessicavalenti, job\n",
      "Topic 24: like, people, @hillaryclinton, trump, say, rt, war, something, ok, captured\n",
      "Topic 25: @hillaryclinton, rt, @fbi, not, @davidshuster, @brianefallon, like, interview, making, easy\n",
      "Topic 26: @hillaryclinton, rt, @jerrybrowngov, brown, endorses, jerry, gov, california, ca, governor\n",
      "Topic 27: @hillaryclinton, rt, trump, president, donald, @realdonaldtrump, #imwithher, next, @potus, would\n",
      "Topic 28: @hillaryclinton, @berniesanders, not, rt, would, bernie, @msnbc, vote, country, cannot\n",
      "Topic 29: @hillaryclinton, rt, @realdonaldtrump, #trump2016, @bfraser747, #maga, @seanhannity, rigged, total, @billclinton\n",
      "Topic 30: @hillaryclinton, rt, american, day, endorsed, every, leadership, today, proud, caucus\n",
      "Topic 31: @hillaryclinton, rt, endorsement, @nrdc_af, presidential, first-ever, re, future, stake, makes\n",
      "Topic 32: @hillaryclinton, rt, like, @billclinton, @msnbc, @potus, sounds, @chrislhayes, mother, @bbhuttozardari\n",
      "Topic 33: @hillaryclinton, rt, @berniesanders, nominee, news, it's, @realdonaldtrump, needs, not, win\n",
      "Topic 34: @hillaryclinton, rt, not, you're, going, sorry, @berniesanders, corrupt, @sahilkapur, 4\n",
      "Topic 35: @hillaryclinton, u, @realdonaldtrump, 2, press, know, going, conference, r, don't\n",
      "Topic 36: hillary, @hillaryclinton, rt, know, see, never, you'll, rally, @jerrybrowngov, @latimes\n",
      "Topic 37: hillary, clinton, @hillaryclinton, rt, want, sure, office, takes, oath, @berniesanders\n",
      "Topic 38: @hillaryclinton, @cnn, @realdonaldtrump, ask, @msnbc, @jaketapper, media, @foxnews, tax, foundation\n",
      "Topic 39: @hillaryclinton, rt, caught, @jordanchariton, pro, not, @billdeblasio, @realdonaldtrump, that's, emails\n"
     ]
    }
   ],
   "source": [
    "# Print Top N Words in Each Topic\n",
    "for i, topic_dist in enumerate(topic_word):\n",
    "    topic_words = np.array(vocab)[np.argsort(topic_dist)][:-(n_top_words+1):-1]\n",
    "    print('Topic {}: {}'.format(i, ', '.join(topic_words)))"
   ]
  },
  {
   "cell_type": "markdown",
   "metadata": {},
   "source": [
    "### Opposition Acknowledgement\n",
    "Identifying the percentage of Tweets containing a reference to a political opponent"
   ]
  },
  {
   "cell_type": "code",
   "execution_count": null,
   "metadata": {
    "collapsed": true
   },
   "outputs": [],
   "source": []
  }
 ],
 "metadata": {
  "kernelspec": {
   "display_name": "Python 3",
   "language": "python",
   "name": "python3"
  },
  "language_info": {
   "codemirror_mode": {
    "name": "ipython",
    "version": 3
   },
   "file_extension": ".py",
   "mimetype": "text/x-python",
   "name": "python",
   "nbconvert_exporter": "python",
   "pygments_lexer": "ipython3",
   "version": "3.4.4"
  }
 },
 "nbformat": 4,
 "nbformat_minor": 0
}
