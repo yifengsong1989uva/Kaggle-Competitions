{
 "cells": [
  {
   "cell_type": "code",
   "execution_count": 248,
   "metadata": {
    "collapsed": true
   },
   "outputs": [],
   "source": [
    "import sys, os, csv\n",
    "import math\n",
    "import pandas as pd\n",
    "import numpy as np\n",
    "import nltk\n",
    "import time\n",
    "import re"
   ]
  },
  {
   "cell_type": "markdown",
   "metadata": {},
   "source": [
    "## Aggregating Endorser Twitter Data"
   ]
  },
  {
   "cell_type": "code",
   "execution_count": 300,
   "metadata": {
    "collapsed": false
   },
   "outputs": [],
   "source": [
    "dataloc = '/Users/hopeemac/Desktop/pf7h/ElectionAnalytics/Data/'"
   ]
  },
  {
   "cell_type": "code",
   "execution_count": 301,
   "metadata": {
    "collapsed": false
   },
   "outputs": [
    {
     "data": {
      "text/plain": [
       "[('Wikidemo2016-05-11.csv', 'Demo Twitter'),\n",
       " ('Wikidemo2016-05-18.csv', 'Demo Twitter'),\n",
       " ('Wikidemo2016-05-19.csv', 'Demo Twitter'),\n",
       " ('Wikidemo2016-05-20.csv', 'Demo Twitter'),\n",
       " ('Wikidemo2016-05-21.csv', 'Demo Twitter'),\n",
       " ('Wikidemo2016-05-22.csv', 'Demo Twitter'),\n",
       " ('Wikidemo2016-05-23.csv', 'Demo Twitter'),\n",
       " ('Wikidemo2016-05-24.csv', 'Demo Twitter'),\n",
       " ('Wikidemo2016-05-25.csv', 'Demo Twitter'),\n",
       " ('Wikidemo2016-05-26.csv', 'Demo Twitter'),\n",
       " ('Wikidemo2016-05-27.csv', 'Demo Twitter'),\n",
       " ('Wikidemo2016-05-28.csv', 'Demo Twitter'),\n",
       " ('Wikidemo2016-05-29.csv', 'Demo Twitter'),\n",
       " ('Wikidemo2016-05-30.csv', 'Demo Twitter'),\n",
       " ('Wikidemo2016-05-31.csv', 'Demo Twitter'),\n",
       " ('Wikidemo2016-06-01.csv', 'Demo Twitter'),\n",
       " ('2016-05-11.csv', 'Rep Twitter'),\n",
       " ('2016-05-18.csv', 'Rep Twitter'),\n",
       " ('2016-05-19.csv', 'Rep Twitter'),\n",
       " ('2016-05-20.csv', 'Rep Twitter'),\n",
       " ('2016-05-21.csv', 'Rep Twitter'),\n",
       " ('2016-05-22.csv', 'Rep Twitter'),\n",
       " ('2016-05-23.csv', 'Rep Twitter'),\n",
       " ('2016-05-24.csv', 'Rep Twitter'),\n",
       " ('2016-05-25.csv', 'Rep Twitter'),\n",
       " ('2016-05-26.csv', 'Rep Twitter'),\n",
       " ('2016-05-27.csv', 'Rep Twitter'),\n",
       " ('2016-05-28.csv', 'Rep Twitter'),\n",
       " ('2016-05-29.csv', 'Rep Twitter'),\n",
       " ('2016-05-30.csv', 'Rep Twitter'),\n",
       " ('2016-05-31.csv', 'Rep Twitter'),\n",
       " ('2016-06-01.csv', 'Rep Twitter')]"
      ]
     },
     "execution_count": 301,
     "metadata": {},
     "output_type": "execute_result"
    }
   ],
   "source": [
    "# Extracting Democrat File Listing\n",
    "filelistD = os.listdir(datalocD+'Demo Twitter')\n",
    "filelistD = [file for file in filelistD if 'Wikidemo' in file]\n",
    "filelistD = [(file, 'Demo Twitter') for file in filelistD]\n",
    "# filelistD\n",
    "\n",
    "# Extracting Republican File Listing\n",
    "filelistR = os.listdir(datalocD+'Rep Twitter')\n",
    "filelistR = [file for file in filelistR if re.search('[0-9+]', file)]\n",
    "filelistR = [(file, 'Rep Twitter') for file in filelistR]\n",
    "filelistR\n",
    "\n",
    "filelist = filelistD + filelistR\n",
    "filelist"
   ]
  },
  {
   "cell_type": "code",
   "execution_count": 304,
   "metadata": {
    "collapsed": false
   },
   "outputs": [
    {
     "name": "stdout",
     "output_type": "stream",
     "text": [
      "('Wikidemo2016-05-11.csv', 'Demo Twitter')\n",
      "Wikidemo2016-05-11.csv\n",
      "('Wikidemo2016-05-18.csv', 'Demo Twitter')\n",
      "Wikidemo2016-05-18.csv\n",
      "('Wikidemo2016-05-19.csv', 'Demo Twitter')\n",
      "Wikidemo2016-05-19.csv\n",
      "('Wikidemo2016-05-20.csv', 'Demo Twitter')\n",
      "Wikidemo2016-05-20.csv\n",
      "('Wikidemo2016-05-21.csv', 'Demo Twitter')\n",
      "Wikidemo2016-05-21.csv\n",
      "('Wikidemo2016-05-22.csv', 'Demo Twitter')\n",
      "Wikidemo2016-05-22.csv\n",
      "('Wikidemo2016-05-23.csv', 'Demo Twitter')\n",
      "Wikidemo2016-05-23.csv\n",
      "('Wikidemo2016-05-24.csv', 'Demo Twitter')\n",
      "Wikidemo2016-05-24.csv\n",
      "('Wikidemo2016-05-25.csv', 'Demo Twitter')\n",
      "Wikidemo2016-05-25.csv\n",
      "('Wikidemo2016-05-26.csv', 'Demo Twitter')\n",
      "Wikidemo2016-05-26.csv\n",
      "('Wikidemo2016-05-27.csv', 'Demo Twitter')\n",
      "Wikidemo2016-05-27.csv\n",
      "('Wikidemo2016-05-28.csv', 'Demo Twitter')\n",
      "Wikidemo2016-05-28.csv\n",
      "('Wikidemo2016-05-29.csv', 'Demo Twitter')\n",
      "Wikidemo2016-05-29.csv\n",
      "('Wikidemo2016-05-30.csv', 'Demo Twitter')\n",
      "Wikidemo2016-05-30.csv\n",
      "('Wikidemo2016-05-31.csv', 'Demo Twitter')\n",
      "Wikidemo2016-05-31.csv\n",
      "('Wikidemo2016-06-01.csv', 'Demo Twitter')\n",
      "Wikidemo2016-06-01.csv\n",
      "('2016-05-11.csv', 'Rep Twitter')\n",
      "2016-05-11.csv\n",
      "('2016-05-18.csv', 'Rep Twitter')\n",
      "2016-05-18.csv\n",
      "('2016-05-19.csv', 'Rep Twitter')\n",
      "2016-05-19.csv\n",
      "('2016-05-20.csv', 'Rep Twitter')\n",
      "2016-05-20.csv\n",
      "('2016-05-21.csv', 'Rep Twitter')\n",
      "2016-05-21.csv\n",
      "('2016-05-22.csv', 'Rep Twitter')\n",
      "2016-05-22.csv\n",
      "('2016-05-23.csv', 'Rep Twitter')\n",
      "2016-05-23.csv\n",
      "('2016-05-24.csv', 'Rep Twitter')\n",
      "2016-05-24.csv\n",
      "('2016-05-25.csv', 'Rep Twitter')\n",
      "2016-05-25.csv\n",
      "('2016-05-26.csv', 'Rep Twitter')\n",
      "2016-05-26.csv\n",
      "('2016-05-27.csv', 'Rep Twitter')\n",
      "2016-05-27.csv\n",
      "('2016-05-28.csv', 'Rep Twitter')\n",
      "2016-05-28.csv\n",
      "('2016-05-29.csv', 'Rep Twitter')\n",
      "2016-05-29.csv\n",
      "('2016-05-30.csv', 'Rep Twitter')\n",
      "2016-05-30.csv\n",
      "('2016-05-31.csv', 'Rep Twitter')\n",
      "2016-05-31.csv\n",
      "('2016-06-01.csv', 'Rep Twitter')\n",
      "2016-06-01.csv\n"
     ]
    }
   ],
   "source": [
    "endorserDF = pd.DataFrame()\n",
    "for item in filelist:\n",
    "    print(item)\n",
    "    file = item[0]\n",
    "    fullfile = dataloc + item[1] + '/' + file\n",
    "    print(file)\n",
    "    tempList = []\n",
    "    with open(fullfile,'rt', errors = 'ignore') as f:\n",
    "        reader = csv.reader(f)\n",
    "        count = 0\n",
    "        for row in reader:\n",
    "            tempList.append(row)\n",
    "            count += 1\n",
    "        tempDF = pd.DataFrame(tempList[1:], columns = tempList[0])\n",
    "        endorserDF = endorserDF.append(tempDF)"
   ]
  },
  {
   "cell_type": "code",
   "execution_count": 305,
   "metadata": {
    "collapsed": false
   },
   "outputs": [],
   "source": [
    "# Clean up Error Values\n",
    "endorserDF.replace(\"Error*\", np.NaN, inplace =  True, regex = True)"
   ]
  },
  {
   "cell_type": "code",
   "execution_count": 306,
   "metadata": {
    "collapsed": false
   },
   "outputs": [],
   "source": [
    "# Create Correct Data Types\n",
    "endorserDF['Follower_count'] = endorserDF['Follower_count'].astype(float)"
   ]
  },
  {
   "cell_type": "code",
   "execution_count": 307,
   "metadata": {
    "collapsed": false
   },
   "outputs": [
    {
     "data": {
      "text/html": [
       "<div>\n",
       "<table border=\"1\" class=\"dataframe\">\n",
       "  <thead>\n",
       "    <tr style=\"text-align: right;\">\n",
       "      <th></th>\n",
       "      <th>Candidates</th>\n",
       "      <th>Endorser</th>\n",
       "      <th>TwitterID</th>\n",
       "      <th>Follower_count</th>\n",
       "      <th>Date</th>\n",
       "    </tr>\n",
       "  </thead>\n",
       "  <tbody>\n",
       "    <tr>\n",
       "      <th>0</th>\n",
       "      <td>Hillary Clinton</td>\n",
       "      <td>50 Cent</td>\n",
       "      <td>@50Cent</td>\n",
       "      <td>8402229.0</td>\n",
       "      <td>2016-05-11</td>\n",
       "    </tr>\n",
       "    <tr>\n",
       "      <th>1</th>\n",
       "      <td>Hillary Clinton</td>\n",
       "      <td>Paula Abdul</td>\n",
       "      <td>@PaulaAbdul</td>\n",
       "      <td>2358216.0</td>\n",
       "      <td>2016-05-11</td>\n",
       "    </tr>\n",
       "    <tr>\n",
       "      <th>2</th>\n",
       "      <td>Hillary Clinton</td>\n",
       "      <td>Farrah Abraham</td>\n",
       "      <td>@FarrahAbraham</td>\n",
       "      <td>6342.0</td>\n",
       "      <td>2016-05-11</td>\n",
       "    </tr>\n",
       "    <tr>\n",
       "      <th>3</th>\n",
       "      <td>Hillary Clinton</td>\n",
       "      <td>Uzo Aduba</td>\n",
       "      <td>@UzoAduba</td>\n",
       "      <td>369305.0</td>\n",
       "      <td>2016-05-11</td>\n",
       "    </tr>\n",
       "    <tr>\n",
       "      <th>4</th>\n",
       "      <td>Hillary Clinton</td>\n",
       "      <td>Ben Affleck</td>\n",
       "      <td>@BenAffleck</td>\n",
       "      <td>2360902.0</td>\n",
       "      <td>2016-05-11</td>\n",
       "    </tr>\n",
       "    <tr>\n",
       "      <th>5</th>\n",
       "      <td>Hillary Clinton</td>\n",
       "      <td>Dianna Agron</td>\n",
       "      <td>@DiannaAgron</td>\n",
       "      <td>2070344.0</td>\n",
       "      <td>2016-05-11</td>\n",
       "    </tr>\n",
       "    <tr>\n",
       "      <th>6</th>\n",
       "      <td>Hillary Clinton</td>\n",
       "      <td>Marc Anthony</td>\n",
       "      <td>@MarcAnthony</td>\n",
       "      <td>8559706.0</td>\n",
       "      <td>2016-05-11</td>\n",
       "    </tr>\n",
       "    <tr>\n",
       "      <th>7</th>\n",
       "      <td>Hillary Clinton</td>\n",
       "      <td>Judd Apatow</td>\n",
       "      <td>@JuddApatow</td>\n",
       "      <td>1503927.0</td>\n",
       "      <td>2016-05-11</td>\n",
       "    </tr>\n",
       "    <tr>\n",
       "      <th>8</th>\n",
       "      <td>Hillary Clinton</td>\n",
       "      <td>Sean Astin</td>\n",
       "      <td>@SeanAstin</td>\n",
       "      <td>170079.0</td>\n",
       "      <td>2016-05-11</td>\n",
       "    </tr>\n",
       "    <tr>\n",
       "      <th>9</th>\n",
       "      <td>Hillary Clinton</td>\n",
       "      <td>Elizabeth Banks</td>\n",
       "      <td>@ElizabethBanks</td>\n",
       "      <td>2224360.0</td>\n",
       "      <td>2016-05-11</td>\n",
       "    </tr>\n",
       "  </tbody>\n",
       "</table>\n",
       "</div>"
      ],
      "text/plain": [
       "        Candidates         Endorser        TwitterID  Follower_count  \\\n",
       "0  Hillary Clinton          50 Cent          @50Cent       8402229.0   \n",
       "1  Hillary Clinton      Paula Abdul      @PaulaAbdul       2358216.0   \n",
       "2  Hillary Clinton   Farrah Abraham   @FarrahAbraham          6342.0   \n",
       "3  Hillary Clinton        Uzo Aduba        @UzoAduba        369305.0   \n",
       "4  Hillary Clinton      Ben Affleck      @BenAffleck       2360902.0   \n",
       "5  Hillary Clinton     Dianna Agron     @DiannaAgron       2070344.0   \n",
       "6  Hillary Clinton     Marc Anthony     @MarcAnthony       8559706.0   \n",
       "7  Hillary Clinton      Judd Apatow      @JuddApatow       1503927.0   \n",
       "8  Hillary Clinton       Sean Astin       @SeanAstin        170079.0   \n",
       "9  Hillary Clinton  Elizabeth Banks  @ElizabethBanks       2224360.0   \n",
       "\n",
       "         Date  \n",
       "0  2016-05-11  \n",
       "1  2016-05-11  \n",
       "2  2016-05-11  \n",
       "3  2016-05-11  \n",
       "4  2016-05-11  \n",
       "5  2016-05-11  \n",
       "6  2016-05-11  \n",
       "7  2016-05-11  \n",
       "8  2016-05-11  \n",
       "9  2016-05-11  "
      ]
     },
     "execution_count": 307,
     "metadata": {},
     "output_type": "execute_result"
    }
   ],
   "source": [
    "endorserDF[0:10]"
   ]
  },
  {
   "cell_type": "code",
   "execution_count": 308,
   "metadata": {
    "collapsed": false
   },
   "outputs": [
    {
     "data": {
      "text/plain": [
       "5296"
      ]
     },
     "execution_count": 308,
     "metadata": {},
     "output_type": "execute_result"
    }
   ],
   "source": [
    "len(endorserDF)"
   ]
  },
  {
   "cell_type": "code",
   "execution_count": 221,
   "metadata": {
    "collapsed": false,
    "scrolled": true
   },
   "outputs": [],
   "source": [
    "import datetime\n",
    "dateReal = [datetime.datetime.strptime(date, '%Y-%m-%d').strftime('%m/%d/%y') for date in endorserDF['Date']]"
   ]
  },
  {
   "cell_type": "code",
   "execution_count": 117,
   "metadata": {
    "collapsed": false
   },
   "outputs": [
    {
     "data": {
      "text/plain": [
       "['2016-05-30',\n",
       " '2016-05-27',\n",
       " '2016-05-19',\n",
       " '2016-05-24',\n",
       " '2016-05-11',\n",
       " '2016-05-31',\n",
       " '2016-05-28',\n",
       " '2016-05-23',\n",
       " '2016-05-18',\n",
       " '2016-05-25',\n",
       " '2016-05-26',\n",
       " '2016-05-20',\n",
       " '2016-05-21',\n",
       " '2016-05-22',\n",
       " '2016-06-01',\n",
       " '2016-05-29']"
      ]
     },
     "execution_count": 117,
     "metadata": {},
     "output_type": "execute_result"
    }
   ],
   "source": [
    "dates = list(set(endorserDF['Date'])); dates"
   ]
  },
  {
   "cell_type": "code",
   "execution_count": 309,
   "metadata": {
    "collapsed": true
   },
   "outputs": [],
   "source": [
    "master = pd.DataFrame(list(set(endorserDF['Date'])), columns = ['Date'])"
   ]
  },
  {
   "cell_type": "code",
   "execution_count": 311,
   "metadata": {
    "collapsed": false
   },
   "outputs": [
    {
     "data": {
      "text/plain": [
       "['Carly Fiorina',\n",
       " 'Lawrence Lessig',\n",
       " 'Jeb Bush',\n",
       " 'Chris Christie',\n",
       " 'Ben Carson',\n",
       " 'Marco Rubio',\n",
       " 'Mike Huckabee',\n",
       " 'Rick Perry',\n",
       " 'Scott Walker',\n",
       " \"Martin O'Malley\",\n",
       " 'Donald Trump',\n",
       " 'Hillary Clinton',\n",
       " 'Ted Cruz',\n",
       " 'Bobby Jindal',\n",
       " 'Rand Paul',\n",
       " 'John Kasich',\n",
       " 'Bernie Sanders']"
      ]
     },
     "execution_count": 311,
     "metadata": {},
     "output_type": "execute_result"
    }
   ],
   "source": [
    "candidates = list(set(endorserDF['Candidates'])); candidates"
   ]
  },
  {
   "cell_type": "code",
   "execution_count": 312,
   "metadata": {
    "collapsed": false
   },
   "outputs": [],
   "source": [
    "def aggregate_Emetrics(candidateAsString):\n",
    "    temp = {}\n",
    "    temp['countE'] = {}\n",
    "    temp['maxEFollowers'] = {}\n",
    "    temp['meanEFollowers'] = {}\n",
    "    temp['medianEFollowers'] = {}\n",
    "    temp['totalEFollowers'] = {}\n",
    "\n",
    "    for date in dates:\n",
    "        # Create data subset\n",
    "        subset = endorserDF.Follower_count[(endorserDF.Date == date) & (endorserDF.Candidates == candidateAsString)]\n",
    "\n",
    "        # Number of Endorsers on Date\n",
    "        temp['countE'][date] = subset.count()\n",
    "\n",
    "        # Max Number of Follower Endorsers on Date\n",
    "        temp['maxEFollowers'][date] = subset.max()\n",
    "\n",
    "        # Mean Number of Follower Endorsers on Date\n",
    "        temp['meanEFollowers'][date] = subset.mean()\n",
    "\n",
    "        # Median Number of Follower Endorsers on Date\n",
    "        temp['medianEFollowers'][date] = subset.median()\n",
    "\n",
    "        # Total Number of Followers of All Endorsers on Date\n",
    "        temp['totalEFollowers'][date] = subset.sum()\n",
    "\n",
    "    metrics = pd.DataFrame.from_dict(temp, orient = 'columns')\n",
    "\n",
    "    # Print Aggregated Daily Statistics to CSV\n",
    "    metrics.to_csv('aggregate_Emetrics_'+ candidateAsString + '.csv')\n",
    "    \n",
    "    # return metrics"
   ]
  },
  {
   "cell_type": "code",
   "execution_count": 313,
   "metadata": {
    "collapsed": false
   },
   "outputs": [
    {
     "data": {
      "text/plain": [
       "[None,\n",
       " None,\n",
       " None,\n",
       " None,\n",
       " None,\n",
       " None,\n",
       " None,\n",
       " None,\n",
       " None,\n",
       " None,\n",
       " None,\n",
       " None,\n",
       " None,\n",
       " None,\n",
       " None,\n",
       " None,\n",
       " None]"
      ]
     },
     "execution_count": 313,
     "metadata": {},
     "output_type": "execute_result"
    }
   ],
   "source": [
    "[aggregate_Emetrics(candidate) for candidate in candidates]"
   ]
  }
 ],
 "metadata": {
  "kernelspec": {
   "display_name": "Python 3",
   "language": "python",
   "name": "python3"
  },
  "language_info": {
   "codemirror_mode": {
    "name": "ipython",
    "version": 3
   },
   "file_extension": ".py",
   "mimetype": "text/x-python",
   "name": "python",
   "nbconvert_exporter": "python",
   "pygments_lexer": "ipython3",
   "version": "3.4.4"
  }
 },
 "nbformat": 4,
 "nbformat_minor": 0
}
